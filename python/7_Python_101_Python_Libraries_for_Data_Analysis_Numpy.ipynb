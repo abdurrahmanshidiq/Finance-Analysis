{
  "nbformat": 4,
  "nbformat_minor": 0,
  "metadata": {
    "colab": {
      "name": "7. Python 101 - Python Libraries for Data Analysis - Numpy Skeleton.ipynb",
      "provenance": [],
      "collapsed_sections": [
        "pNWQrMz6KnIF"
      ],
      "include_colab_link": true
    },
    "kernelspec": {
      "name": "python3",
      "display_name": "Python 3"
    }
  },
  "cells": [
    {
      "cell_type": "markdown",
      "metadata": {
        "id": "view-in-github",
        "colab_type": "text"
      },
      "source": [
        "<a href=\"https://colab.research.google.com/github/abdurrahmanshidiq/Finance-Analysis/blob/main/7_Python_101_Python_Libraries_for_Data_Analysis_Numpy.ipynb\" target=\"_parent\"><img src=\"https://colab.research.google.com/assets/colab-badge.svg\" alt=\"Open In Colab\"/></a>"
      ]
    },
    {
      "cell_type": "markdown",
      "metadata": {
        "id": "f7yOpaRM5IbG"
      },
      "source": [
        "# 1. NUMPY BASICS"
      ]
    },
    {
      "cell_type": "code",
      "metadata": {
        "id": "Bqk10u47qEmJ",
        "outputId": "c5db1cde-f38f-4d00-fc0f-e12da1f5bf6a",
        "colab": {
          "base_uri": "https://localhost:8080/"
        }
      },
      "source": [
        "# NumPy is a Linear Algebra Library used for multidimensional arrays\n",
        "# NumPy brings the best of two worlds: (1) C/Fortran computational efficiency, (2) Python language easy syntax \n",
        "import numpy as np\n",
        "# Let's define a one-dimensional array \n",
        "my_list = [10, 20, 50, 60, 70]\n",
        "my_list"
      ],
      "execution_count": 1,
      "outputs": [
        {
          "output_type": "execute_result",
          "data": {
            "text/plain": [
              "[10, 20, 50, 60, 70]"
            ]
          },
          "metadata": {
            "tags": []
          },
          "execution_count": 1
        }
      ]
    },
    {
      "cell_type": "code",
      "metadata": {
        "id": "b98d-lkK5NbQ",
        "outputId": "c21d9e41-2af8-49ed-a469-64487c2f4c5f",
        "colab": {
          "base_uri": "https://localhost:8080/"
        }
      },
      "source": [
        "# Let's create a numpy array from the list \"my_list\"\n",
        "x = np.array(my_list)\n",
        "x"
      ],
      "execution_count": 2,
      "outputs": [
        {
          "output_type": "execute_result",
          "data": {
            "text/plain": [
              "array([10, 20, 50, 60, 70])"
            ]
          },
          "metadata": {
            "tags": []
          },
          "execution_count": 2
        }
      ]
    },
    {
      "cell_type": "code",
      "metadata": {
        "id": "tljNDWBw5Nf9",
        "outputId": "0df8caf5-3f8d-4ddd-f993-c932b257aebf",
        "colab": {
          "base_uri": "https://localhost:8080/"
        }
      },
      "source": [
        "type(x)"
      ],
      "execution_count": 3,
      "outputs": [
        {
          "output_type": "execute_result",
          "data": {
            "text/plain": [
              "numpy.ndarray"
            ]
          },
          "metadata": {
            "tags": []
          },
          "execution_count": 3
        }
      ]
    },
    {
      "cell_type": "code",
      "metadata": {
        "id": "wpiZ25fZ5NiN",
        "outputId": "96c2c720-03ee-4e4d-9105-891677453801",
        "colab": {
          "base_uri": "https://localhost:8080/"
        }
      },
      "source": [
        "# Multi-dimensional (Matrix definition) \n",
        "matrix = np.array([[5, 8], [9, 13]])\n",
        "matrix"
      ],
      "execution_count": 4,
      "outputs": [
        {
          "output_type": "execute_result",
          "data": {
            "text/plain": [
              "array([[ 5,  8],\n",
              "       [ 9, 13]])"
            ]
          },
          "metadata": {
            "tags": []
          },
          "execution_count": 4
        }
      ]
    },
    {
      "cell_type": "markdown",
      "metadata": {
        "id": "tmB_S-JfHZRL"
      },
      "source": [
        "**MINI CHALLENGE #1:** \n",
        "- **Write a code that creates the following 2x4 numpy array**\n",
        "\n",
        "```\n",
        "[[4 6 8 7] \n",
        "[20 5 6 9]]\n",
        "```"
      ]
    },
    {
      "cell_type": "code",
      "metadata": {
        "id": "Nabjzl1oKtGX",
        "outputId": "7f09068a-2f97-470f-ce11-1a366ee5586e",
        "colab": {
          "base_uri": "https://localhost:8080/"
        }
      },
      "source": [
        "x = np.array([[4, 6, 8, 7], [20, 5, 6, 9]])\n",
        "x"
      ],
      "execution_count": 5,
      "outputs": [
        {
          "output_type": "execute_result",
          "data": {
            "text/plain": [
              "array([[ 4,  6,  8,  7],\n",
              "       [20,  5,  6,  9]])"
            ]
          },
          "metadata": {
            "tags": []
          },
          "execution_count": 5
        }
      ]
    },
    {
      "cell_type": "markdown",
      "metadata": {
        "id": "uBuqdDQM6Qd9"
      },
      "source": [
        "# 2. BUILT-IN METHODS AND FUNCTIONS "
      ]
    },
    {
      "cell_type": "code",
      "metadata": {
        "id": "yXQV-Nrg5No3",
        "outputId": "fd5b3e34-7bb8-48d2-f672-5cf4cce66d42",
        "colab": {
          "base_uri": "https://localhost:8080/"
        }
      },
      "source": [
        "# \"rand()\" uniform distribution between 0 and 1\n",
        "x = np.random.rand(15)\n",
        "x"
      ],
      "execution_count": 6,
      "outputs": [
        {
          "output_type": "execute_result",
          "data": {
            "text/plain": [
              "array([0.25274429, 0.98509034, 0.57289926, 0.97874439, 0.47721443,\n",
              "       0.05980272, 0.50482534, 0.64651042, 0.53415611, 0.7945013 ,\n",
              "       0.35558207, 0.14821373, 0.80624232, 0.38232196, 0.75930662])"
            ]
          },
          "metadata": {
            "tags": []
          },
          "execution_count": 6
        }
      ]
    },
    {
      "cell_type": "code",
      "metadata": {
        "id": "PpJUCdB15NkT",
        "outputId": "3feff4bd-0fec-4cf5-8057-454465644359",
        "colab": {
          "base_uri": "https://localhost:8080/"
        }
      },
      "source": [
        "# you can create a matrix of random number as well\n",
        "x = np.random.rand(5,5)\n",
        "x"
      ],
      "execution_count": 7,
      "outputs": [
        {
          "output_type": "execute_result",
          "data": {
            "text/plain": [
              "array([[0.73830331, 0.18428153, 0.82584807, 0.60051117, 0.24443386],\n",
              "       [0.58850496, 0.71292044, 0.00217764, 0.13048054, 0.0950982 ],\n",
              "       [0.0665906 , 0.13206533, 0.76568685, 0.84834919, 0.57924821],\n",
              "       [0.08443949, 0.77729297, 0.30260518, 0.40902389, 0.03546221],\n",
              "       [0.94249041, 0.58369569, 0.31647568, 0.92357071, 0.7591344 ]])"
            ]
          },
          "metadata": {
            "tags": []
          },
          "execution_count": 7
        }
      ]
    },
    {
      "cell_type": "code",
      "metadata": {
        "id": "7EzMNrrm6YHA",
        "outputId": "435c6881-2cdf-44b0-b4c0-86c03e9f4c85",
        "colab": {
          "base_uri": "https://localhost:8080/"
        }
      },
      "source": [
        "# \"randn()\" normal distribution between 0 and 1\n",
        "np.random.randn(10)"
      ],
      "execution_count": 8,
      "outputs": [
        {
          "output_type": "execute_result",
          "data": {
            "text/plain": [
              "array([ 0.33054593,  0.45983763, -0.62083818, -0.25643241,  0.5923612 ,\n",
              "        0.41452755, -0.70614398,  0.26677893, -0.96608035, -0.76307908])"
            ]
          },
          "metadata": {
            "tags": []
          },
          "execution_count": 8
        }
      ]
    },
    {
      "cell_type": "code",
      "metadata": {
        "id": "RBcU5xgb6YL0",
        "outputId": "ab873ab3-7ada-4dd0-da06-e483ea4147d8",
        "colab": {
          "base_uri": "https://localhost:8080/"
        }
      },
      "source": [
        "# \"randint\" is used to generate random integers between upper and lower bounds\n",
        "np.random.randint(1,10)"
      ],
      "execution_count": 9,
      "outputs": [
        {
          "output_type": "execute_result",
          "data": {
            "text/plain": [
              "6"
            ]
          },
          "metadata": {
            "tags": []
          },
          "execution_count": 9
        }
      ]
    },
    {
      "cell_type": "code",
      "metadata": {
        "id": "O3JdVtvo6YP7",
        "outputId": "17a3c570-57c3-4cb4-eb24-626407373e59",
        "colab": {
          "base_uri": "https://localhost:8080/"
        }
      },
      "source": [
        "# \"randint\" can be used to generate a certain number of random itegers as follows\n",
        "np.random.randint(1,100,15)"
      ],
      "execution_count": 10,
      "outputs": [
        {
          "output_type": "execute_result",
          "data": {
            "text/plain": [
              "array([35, 88, 99, 96, 20, 16, 78, 14, 35,  6, 53, 52, 55, 57, 66])"
            ]
          },
          "metadata": {
            "tags": []
          },
          "execution_count": 10
        }
      ]
    },
    {
      "cell_type": "code",
      "metadata": {
        "id": "EOOLMB416YUh",
        "outputId": "4f800625-d266-427b-9b3d-1d1250a4329e",
        "colab": {
          "base_uri": "https://localhost:8080/"
        }
      },
      "source": [
        "# np.arange creates an evenly spaced values within a given interval\n",
        "np.arange(1,50)"
      ],
      "execution_count": 11,
      "outputs": [
        {
          "output_type": "execute_result",
          "data": {
            "text/plain": [
              "array([ 1,  2,  3,  4,  5,  6,  7,  8,  9, 10, 11, 12, 13, 14, 15, 16, 17,\n",
              "       18, 19, 20, 21, 22, 23, 24, 25, 26, 27, 28, 29, 30, 31, 32, 33, 34,\n",
              "       35, 36, 37, 38, 39, 40, 41, 42, 43, 44, 45, 46, 47, 48, 49])"
            ]
          },
          "metadata": {
            "tags": []
          },
          "execution_count": 11
        }
      ]
    },
    {
      "cell_type": "code",
      "metadata": {
        "id": "Jz7eJuio6YY4",
        "outputId": "afe1b3b2-5223-42db-fc0f-17f1a9bf269e",
        "colab": {
          "base_uri": "https://localhost:8080/"
        }
      },
      "source": [
        "# Create an evenly spaced values with a step of 5\n",
        "np.arange(1,50,5)"
      ],
      "execution_count": 12,
      "outputs": [
        {
          "output_type": "execute_result",
          "data": {
            "text/plain": [
              "array([ 1,  6, 11, 16, 21, 26, 31, 36, 41, 46])"
            ]
          },
          "metadata": {
            "tags": []
          },
          "execution_count": 12
        }
      ]
    },
    {
      "cell_type": "code",
      "metadata": {
        "id": "sft1flaM6YXF",
        "outputId": "9457da3c-a92f-4a55-c8bc-6b3c3bbc5e68",
        "colab": {
          "base_uri": "https://localhost:8080/"
        }
      },
      "source": [
        "# create a diagonal of ones and zeros everywhere else\n",
        "np.eye(15)"
      ],
      "execution_count": 13,
      "outputs": [
        {
          "output_type": "execute_result",
          "data": {
            "text/plain": [
              "array([[1., 0., 0., 0., 0., 0., 0., 0., 0., 0., 0., 0., 0., 0., 0.],\n",
              "       [0., 1., 0., 0., 0., 0., 0., 0., 0., 0., 0., 0., 0., 0., 0.],\n",
              "       [0., 0., 1., 0., 0., 0., 0., 0., 0., 0., 0., 0., 0., 0., 0.],\n",
              "       [0., 0., 0., 1., 0., 0., 0., 0., 0., 0., 0., 0., 0., 0., 0.],\n",
              "       [0., 0., 0., 0., 1., 0., 0., 0., 0., 0., 0., 0., 0., 0., 0.],\n",
              "       [0., 0., 0., 0., 0., 1., 0., 0., 0., 0., 0., 0., 0., 0., 0.],\n",
              "       [0., 0., 0., 0., 0., 0., 1., 0., 0., 0., 0., 0., 0., 0., 0.],\n",
              "       [0., 0., 0., 0., 0., 0., 0., 1., 0., 0., 0., 0., 0., 0., 0.],\n",
              "       [0., 0., 0., 0., 0., 0., 0., 0., 1., 0., 0., 0., 0., 0., 0.],\n",
              "       [0., 0., 0., 0., 0., 0., 0., 0., 0., 1., 0., 0., 0., 0., 0.],\n",
              "       [0., 0., 0., 0., 0., 0., 0., 0., 0., 0., 1., 0., 0., 0., 0.],\n",
              "       [0., 0., 0., 0., 0., 0., 0., 0., 0., 0., 0., 1., 0., 0., 0.],\n",
              "       [0., 0., 0., 0., 0., 0., 0., 0., 0., 0., 0., 0., 1., 0., 0.],\n",
              "       [0., 0., 0., 0., 0., 0., 0., 0., 0., 0., 0., 0., 0., 1., 0.],\n",
              "       [0., 0., 0., 0., 0., 0., 0., 0., 0., 0., 0., 0., 0., 0., 1.]])"
            ]
          },
          "metadata": {
            "tags": []
          },
          "execution_count": 13
        }
      ]
    },
    {
      "cell_type": "code",
      "metadata": {
        "id": "zZgMftc96fZm",
        "outputId": "11a6cff6-bc62-44b5-d62b-d1db370763b6",
        "colab": {
          "base_uri": "https://localhost:8080/"
        }
      },
      "source": [
        "# Array of ones\n",
        "np.ones(10)"
      ],
      "execution_count": 14,
      "outputs": [
        {
          "output_type": "execute_result",
          "data": {
            "text/plain": [
              "array([1., 1., 1., 1., 1., 1., 1., 1., 1., 1.])"
            ]
          },
          "metadata": {
            "tags": []
          },
          "execution_count": 14
        }
      ]
    },
    {
      "cell_type": "code",
      "metadata": {
        "id": "VQ8fp8Qb6feB",
        "outputId": "a161eb6a-34ef-4cf1-e7cc-880cff24d0ee",
        "colab": {
          "base_uri": "https://localhost:8080/"
        }
      },
      "source": [
        "# Matrices of ones\n",
        "np.ones((10,10))"
      ],
      "execution_count": 15,
      "outputs": [
        {
          "output_type": "execute_result",
          "data": {
            "text/plain": [
              "array([[1., 1., 1., 1., 1., 1., 1., 1., 1., 1.],\n",
              "       [1., 1., 1., 1., 1., 1., 1., 1., 1., 1.],\n",
              "       [1., 1., 1., 1., 1., 1., 1., 1., 1., 1.],\n",
              "       [1., 1., 1., 1., 1., 1., 1., 1., 1., 1.],\n",
              "       [1., 1., 1., 1., 1., 1., 1., 1., 1., 1.],\n",
              "       [1., 1., 1., 1., 1., 1., 1., 1., 1., 1.],\n",
              "       [1., 1., 1., 1., 1., 1., 1., 1., 1., 1.],\n",
              "       [1., 1., 1., 1., 1., 1., 1., 1., 1., 1.],\n",
              "       [1., 1., 1., 1., 1., 1., 1., 1., 1., 1.],\n",
              "       [1., 1., 1., 1., 1., 1., 1., 1., 1., 1.]])"
            ]
          },
          "metadata": {
            "tags": []
          },
          "execution_count": 15
        }
      ]
    },
    {
      "cell_type": "code",
      "metadata": {
        "id": "TTROXKYo6YSn",
        "outputId": "299b0d01-cfb4-48be-ce49-67e19b085561",
        "colab": {
          "base_uri": "https://localhost:8080/"
        }
      },
      "source": [
        "# Array of zeros\n",
        "np.zeros(50)"
      ],
      "execution_count": 16,
      "outputs": [
        {
          "output_type": "execute_result",
          "data": {
            "text/plain": [
              "array([0., 0., 0., 0., 0., 0., 0., 0., 0., 0., 0., 0., 0., 0., 0., 0., 0.,\n",
              "       0., 0., 0., 0., 0., 0., 0., 0., 0., 0., 0., 0., 0., 0., 0., 0., 0.,\n",
              "       0., 0., 0., 0., 0., 0., 0., 0., 0., 0., 0., 0., 0., 0., 0., 0.])"
            ]
          },
          "metadata": {
            "tags": []
          },
          "execution_count": 16
        }
      ]
    },
    {
      "cell_type": "markdown",
      "metadata": {
        "id": "IGiQ87EjKzh-"
      },
      "source": [
        "**MINI CHALLENGE #2:**\n",
        "- **Write a code that takes in a number x from the user and creates a 1x20 array with random numbers ranging from 0 to x**"
      ]
    },
    {
      "cell_type": "code",
      "metadata": {
        "id": "xg1mPZKKML5j",
        "outputId": "41c9cbfd-535c-406a-c1d4-6d8c05d32037",
        "colab": {
          "base_uri": "https://localhost:8080/"
        }
      },
      "source": [
        "num = int(input('Enter a Number : '))\n",
        "\n",
        "ar = np.random.randint(1,num,20)\n",
        "ar"
      ],
      "execution_count": 17,
      "outputs": [
        {
          "output_type": "stream",
          "text": [
            "Enter a Number : 1000\n"
          ],
          "name": "stdout"
        },
        {
          "output_type": "execute_result",
          "data": {
            "text/plain": [
              "array([138, 480, 439, 628, 947, 500, 972,  17, 223, 580, 424, 423, 737,\n",
              "       684, 611, 716, 812, 392, 214, 318])"
            ]
          },
          "metadata": {
            "tags": []
          },
          "execution_count": 17
        }
      ]
    },
    {
      "cell_type": "markdown",
      "metadata": {
        "id": "980PKtbu9Z0k"
      },
      "source": [
        "# 3. SHAPE, LENGTH, TYPE, RESHAPE, AND MAX/MIN VALUES"
      ]
    },
    {
      "cell_type": "code",
      "metadata": {
        "id": "MIxxZhxSADVj",
        "outputId": "6e8c3159-0792-4c1d-a28b-fc8203e3e8be",
        "colab": {
          "base_uri": "https://localhost:8080/"
        }
      },
      "source": [
        "# Let's define a one-dimensional array \n",
        "my_list = [-30, 4, 50, 60, 29, 15, 22, 90]\n",
        "my_list\n",
        "x = np.array(my_list)\n",
        "x"
      ],
      "execution_count": 18,
      "outputs": [
        {
          "output_type": "execute_result",
          "data": {
            "text/plain": [
              "array([-30,   4,  50,  60,  29,  15,  22,  90])"
            ]
          },
          "metadata": {
            "tags": []
          },
          "execution_count": 18
        }
      ]
    },
    {
      "cell_type": "code",
      "metadata": {
        "id": "O9mMBErG6YJr",
        "outputId": "3d37e2b0-596d-401c-cc54-b96cc95a7227",
        "colab": {
          "base_uri": "https://localhost:8080/"
        }
      },
      "source": [
        "# Get Length of a numpy array\n",
        "len(x)"
      ],
      "execution_count": 19,
      "outputs": [
        {
          "output_type": "execute_result",
          "data": {
            "text/plain": [
              "8"
            ]
          },
          "metadata": {
            "tags": []
          },
          "execution_count": 19
        }
      ]
    },
    {
      "cell_type": "code",
      "metadata": {
        "id": "fo3vYjNI9lGF",
        "outputId": "f091b490-5993-4bdc-c3f3-b5a821a9264e",
        "colab": {
          "base_uri": "https://localhost:8080/"
        }
      },
      "source": [
        "# Get shape\n",
        "x.shape"
      ],
      "execution_count": 20,
      "outputs": [
        {
          "output_type": "execute_result",
          "data": {
            "text/plain": [
              "(8,)"
            ]
          },
          "metadata": {
            "tags": []
          },
          "execution_count": 20
        }
      ]
    },
    {
      "cell_type": "code",
      "metadata": {
        "id": "fdkzRVuB9lR6",
        "outputId": "7008b5e8-9873-48b1-dae1-b92f796e06be",
        "colab": {
          "base_uri": "https://localhost:8080/"
        }
      },
      "source": [
        "# Obtain the datatype\n",
        "x.dtype"
      ],
      "execution_count": 21,
      "outputs": [
        {
          "output_type": "execute_result",
          "data": {
            "text/plain": [
              "dtype('int64')"
            ]
          },
          "metadata": {
            "tags": []
          },
          "execution_count": 21
        }
      ]
    },
    {
      "cell_type": "code",
      "metadata": {
        "id": "GVnOSYnU9lLU",
        "outputId": "dfe72814-c785-4091-9c24-24a7ff43ecf0",
        "colab": {
          "base_uri": "https://localhost:8080/"
        }
      },
      "source": [
        "# Reshape 1D array into a matrix\n",
        "z = x.reshape(2,4)\n",
        "z"
      ],
      "execution_count": 22,
      "outputs": [
        {
          "output_type": "execute_result",
          "data": {
            "text/plain": [
              "array([[-30,   4,  50,  60],\n",
              "       [ 29,  15,  22,  90]])"
            ]
          },
          "metadata": {
            "tags": []
          },
          "execution_count": 22
        }
      ]
    },
    {
      "cell_type": "code",
      "metadata": {
        "id": "zb1UVnsW9lI_",
        "outputId": "835aa54d-3fb3-44ef-9709-ff4011509860",
        "colab": {
          "base_uri": "https://localhost:8080/"
        }
      },
      "source": [
        "# Obtain the maximum element (value)\n",
        "x.max()"
      ],
      "execution_count": 23,
      "outputs": [
        {
          "output_type": "execute_result",
          "data": {
            "text/plain": [
              "90"
            ]
          },
          "metadata": {
            "tags": []
          },
          "execution_count": 23
        }
      ]
    },
    {
      "cell_type": "code",
      "metadata": {
        "id": "q1yArvkA-R5P",
        "outputId": "b89212ac-0c8f-4e0e-ff85-923ee4874567",
        "colab": {
          "base_uri": "https://localhost:8080/"
        }
      },
      "source": [
        "# Obtain the minimum element (value)\n",
        "x.min()"
      ],
      "execution_count": 24,
      "outputs": [
        {
          "output_type": "execute_result",
          "data": {
            "text/plain": [
              "-30"
            ]
          },
          "metadata": {
            "tags": []
          },
          "execution_count": 24
        }
      ]
    },
    {
      "cell_type": "code",
      "metadata": {
        "id": "ehXgrFee-R3F",
        "outputId": "2d2e00d4-b1ee-4250-83a6-de8aeb35f732",
        "colab": {
          "base_uri": "https://localhost:8080/"
        }
      },
      "source": [
        "# Obtain the location of the max element\n",
        "x.argmax()"
      ],
      "execution_count": 25,
      "outputs": [
        {
          "output_type": "execute_result",
          "data": {
            "text/plain": [
              "7"
            ]
          },
          "metadata": {
            "tags": []
          },
          "execution_count": 25
        }
      ]
    },
    {
      "cell_type": "code",
      "metadata": {
        "id": "EnaJTGEy-R0Y",
        "outputId": "639cd1b5-b622-4791-9074-bbbb5c0effc4",
        "colab": {
          "base_uri": "https://localhost:8080/"
        }
      },
      "source": [
        "# Obtain the location of the min element\n",
        "x.argmin()"
      ],
      "execution_count": 26,
      "outputs": [
        {
          "output_type": "execute_result",
          "data": {
            "text/plain": [
              "0"
            ]
          },
          "metadata": {
            "tags": []
          },
          "execution_count": 26
        }
      ]
    },
    {
      "cell_type": "markdown",
      "metadata": {
        "id": "7LavgBBnIIJz"
      },
      "source": [
        "**MINI CHALLENGE #3:**\n",
        "- **Write a code that creates a 4x5 array inwhich numbers range between 300 and 500 such that the difference between elements is 10**"
      ]
    },
    {
      "cell_type": "code",
      "metadata": {
        "id": "CtwsbAQ6NGiN",
        "outputId": "d91e1cce-caa2-4522-cf2c-ab44b89e4e97",
        "colab": {
          "base_uri": "https://localhost:8080/"
        }
      },
      "source": [
        "x = np.arange(300,500,10)\n",
        "print(x)\n",
        "z = x.reshape(4,5)\n",
        "print(z)"
      ],
      "execution_count": 27,
      "outputs": [
        {
          "output_type": "stream",
          "text": [
            "[300 310 320 330 340 350 360 370 380 390 400 410 420 430 440 450 460 470\n",
            " 480 490]\n",
            "[[300 310 320 330 340]\n",
            " [350 360 370 380 390]\n",
            " [400 410 420 430 440]\n",
            " [450 460 470 480 490]]\n"
          ],
          "name": "stdout"
        }
      ]
    },
    {
      "cell_type": "markdown",
      "metadata": {
        "id": "zQ-QhrsgM2x8"
      },
      "source": [
        "**MINI CHALLENGE #4:**\n",
        "- **Write a code that creates a 20x20 numpy array of random values that ranges from -1000 to 1000 and obtain the maximum, minimum, and mean values** "
      ]
    },
    {
      "cell_type": "code",
      "metadata": {
        "id": "PS3ofoabMb9V",
        "outputId": "f452bafe-c76c-4426-d719-9be549d0bd7d",
        "colab": {
          "base_uri": "https://localhost:8080/"
        }
      },
      "source": [
        "x = np.random.randint(-1000,1000, (20,20))\n",
        "print(x)\n",
        "print(x.max())\n",
        "print(x.min())"
      ],
      "execution_count": 28,
      "outputs": [
        {
          "output_type": "stream",
          "text": [
            "[[-900  854  798 -874    1 -479  695 -489 -382 -978 -289 -507  282  534\n",
            "  -531 -176  741  222  -71 -444]\n",
            " [-233 -120  822  901   30  362 -922  554 -225  923  691 -645  380  780\n",
            "  -415  593  681 -590 -420  926]\n",
            " [-524 -348  544  -94  972  958  -19  503 -562   -1  -87 -881  833  898\n",
            "   433 -740  146  234  180  498]\n",
            " [-120  371 -506 -753  503 -816  949  433  804 -883 -591   67 -705 -764\n",
            "   852  871 -969  626 -901  825]\n",
            " [ 971  104  907  576 -587  -28 -203 -241  968  981  548  -38  700  540\n",
            "  -616 -886  621 -692  423  330]\n",
            " [ 528  325  772   19 -187 -552 -678  150 -537 -321  844  514   76 -151\n",
            "   315  551  766   32 -278 -153]\n",
            " [-770 -328 -919 -501 -529  263  480 -598  -43 -140  935 -438  143  263\n",
            "  -420  -41  867 -829  139 -913]\n",
            " [ 474  737 -711  171 -485  927  698 -329 -986  893 -528 -741  -36 -367\n",
            "  -952  -53   -9   27 -788 -329]\n",
            " [  53  959 -411 -966 -376  417 -227 -595  946 -460 -834 -246   71 -382\n",
            "    57   -5 -375  606 -161   95]\n",
            " [ 698  314 -600 -450 -807 -753 -742  852  264  312  -26  303  841   51\n",
            "  -397 -511 -829  252  574 -251]\n",
            " [ 228 -645  564 -765  250 -725  214  767 -795  705  323  796  -28  856\n",
            "   322 -605  676  396  684  590]\n",
            " [  22  514  753  395 -952 -693  106  869 -451 -521  656  781 -806 -749\n",
            "   493  634 -338 -801  169 -222]\n",
            " [-343 -878  137 -386   59  -98  521 -113 -490 -150  691 -167  966 -179\n",
            "   -52  909 -282 -775 -120  397]\n",
            " [ -25  692  100   24 -439  106   38  617  570  750  194 -529  886  927\n",
            "   658  657 -221  814  866  675]\n",
            " [ 859   40 -850  522 -842 -336 -188  666  774 -296   97  813 -341 -208\n",
            "   845 -863 -388 -210   48  854]\n",
            " [ 562  140  -32  915   51  236  458 -103   61 -387  543  292 -734  472\n",
            "   189   53  554 -800  267 -885]\n",
            " [ 208    6  867 -626 -939 -237 -986  182 -779 -873 -526  630  840  -32\n",
            "   656  602 -220  996 -143 -751]\n",
            " [-392  -80 -472 -776  777 -752  985 -609  917  718 -143  168   15  849\n",
            "  -241  172  283 -881  985   31]\n",
            " [ 939  736  954  850  607 -164  688 -846 -781  637 -209  286 -827 -102\n",
            "   886 -792  149  305   99 -598]\n",
            " [-209  562  442   80  153 -392  271 -346  418  924 -906  856  531 -598\n",
            "    82  462  761  693 -888  661]]\n",
            "996\n",
            "-986\n"
          ],
          "name": "stdout"
        }
      ]
    },
    {
      "cell_type": "markdown",
      "metadata": {
        "id": "VRyk_VYQArV3"
      },
      "source": [
        "# 4. MATHEMATICAL OPERATIONS"
      ]
    },
    {
      "cell_type": "code",
      "metadata": {
        "id": "vm-gmaQG-Vvd",
        "outputId": "622e725b-7c7d-4dd4-97a5-b43a0753b28f",
        "colab": {
          "base_uri": "https://localhost:8080/"
        }
      },
      "source": [
        "# np.arange() returns an evenly spaced values within a given interval\n",
        "x = np.arange(1, 10)\n",
        "x"
      ],
      "execution_count": 29,
      "outputs": [
        {
          "output_type": "execute_result",
          "data": {
            "text/plain": [
              "array([1, 2, 3, 4, 5, 6, 7, 8, 9])"
            ]
          },
          "metadata": {
            "tags": []
          },
          "execution_count": 29
        }
      ]
    },
    {
      "cell_type": "code",
      "metadata": {
        "id": "yzC5WGBIAzNk",
        "outputId": "34880eb1-51f6-4b41-c1f6-830f0e7c59c6",
        "colab": {
          "base_uri": "https://localhost:8080/"
        }
      },
      "source": [
        "y = np.arange(1, 10)\n",
        "y"
      ],
      "execution_count": 30,
      "outputs": [
        {
          "output_type": "execute_result",
          "data": {
            "text/plain": [
              "array([1, 2, 3, 4, 5, 6, 7, 8, 9])"
            ]
          },
          "metadata": {
            "tags": []
          },
          "execution_count": 30
        }
      ]
    },
    {
      "cell_type": "code",
      "metadata": {
        "id": "ED0OSzpw2p9R",
        "outputId": "419c80d1-09f8-44eb-decc-8d0479600ffa",
        "colab": {
          "base_uri": "https://localhost:8080/"
        }
      },
      "source": [
        "# Add 2 numpy arrays together\n",
        "z = x+y\n",
        "z"
      ],
      "execution_count": 31,
      "outputs": [
        {
          "output_type": "execute_result",
          "data": {
            "text/plain": [
              "array([ 2,  4,  6,  8, 10, 12, 14, 16, 18])"
            ]
          },
          "metadata": {
            "tags": []
          },
          "execution_count": 31
        }
      ]
    },
    {
      "cell_type": "code",
      "metadata": {
        "id": "TH6xTJcuAzK-",
        "outputId": "b0553edb-6d14-4d45-ee10-05b00f167eac",
        "colab": {
          "base_uri": "https://localhost:8080/"
        }
      },
      "source": [
        "sq = x**2\n",
        "sq"
      ],
      "execution_count": 32,
      "outputs": [
        {
          "output_type": "execute_result",
          "data": {
            "text/plain": [
              "array([ 1,  4,  9, 16, 25, 36, 49, 64, 81])"
            ]
          },
          "metadata": {
            "tags": []
          },
          "execution_count": 32
        }
      ]
    },
    {
      "cell_type": "code",
      "metadata": {
        "id": "A0T25q5bAzIw",
        "outputId": "8c00cfd3-ae5f-4164-88b0-28aa3a459e78",
        "colab": {
          "base_uri": "https://localhost:8080/"
        }
      },
      "source": [
        "sqrt = np.sqrt(sq)\n",
        "sqrt"
      ],
      "execution_count": 33,
      "outputs": [
        {
          "output_type": "execute_result",
          "data": {
            "text/plain": [
              "array([1., 2., 3., 4., 5., 6., 7., 8., 9.])"
            ]
          },
          "metadata": {
            "tags": []
          },
          "execution_count": 33
        }
      ]
    },
    {
      "cell_type": "code",
      "metadata": {
        "id": "1HvrjH4fAzGd",
        "outputId": "ff899c84-6b81-4949-c720-a6691de95ef8",
        "colab": {
          "base_uri": "https://localhost:8080/"
        }
      },
      "source": [
        "ex = np.exp(y)\n",
        "ex"
      ],
      "execution_count": 34,
      "outputs": [
        {
          "output_type": "execute_result",
          "data": {
            "text/plain": [
              "array([2.71828183e+00, 7.38905610e+00, 2.00855369e+01, 5.45981500e+01,\n",
              "       1.48413159e+02, 4.03428793e+02, 1.09663316e+03, 2.98095799e+03,\n",
              "       8.10308393e+03])"
            ]
          },
          "metadata": {
            "tags": []
          },
          "execution_count": 34
        }
      ]
    },
    {
      "cell_type": "markdown",
      "metadata": {
        "id": "-mj5Mwc2MmY2"
      },
      "source": [
        "**MINI CHALLENGE #5:**\n",
        "- **Given the X and Y values below, obtain the distance between them**\n",
        "\n",
        "\n",
        "```\n",
        "X = [3, 20, 30]\n",
        "Y = [4, 6, 7]\n",
        "```"
      ]
    },
    {
      "cell_type": "code",
      "metadata": {
        "id": "LfvrGIb83zCA",
        "outputId": "f5bf5632-b85c-4557-aeeb-e59356ce1fa7",
        "colab": {
          "base_uri": "https://localhost:8080/"
        }
      },
      "source": [
        "X = np.array([3, 20, 30])\n",
        "Y = np.array([4, 6, 7])\n",
        "Z = np.sqrt(X**2 + Y**2)\n",
        "Z"
      ],
      "execution_count": 35,
      "outputs": [
        {
          "output_type": "execute_result",
          "data": {
            "text/plain": [
              "array([ 5.        , 20.88061302, 30.8058436 ])"
            ]
          },
          "metadata": {
            "tags": []
          },
          "execution_count": 35
        }
      ]
    },
    {
      "cell_type": "markdown",
      "metadata": {
        "id": "ZA-Yb20mCYLl"
      },
      "source": [
        "# 5. SLICING AND INDEXING "
      ]
    },
    {
      "cell_type": "code",
      "metadata": {
        "id": "Bu6rhQ99BFCp",
        "outputId": "4e0e37be-84c0-49f0-c8be-6c280b2b470a",
        "colab": {
          "base_uri": "https://localhost:8080/"
        }
      },
      "source": [
        "x = np.array([20, 40, 50, 21, 15])\n",
        "x"
      ],
      "execution_count": 36,
      "outputs": [
        {
          "output_type": "execute_result",
          "data": {
            "text/plain": [
              "array([20, 40, 50, 21, 15])"
            ]
          },
          "metadata": {
            "tags": []
          },
          "execution_count": 36
        }
      ]
    },
    {
      "cell_type": "code",
      "metadata": {
        "id": "9TuEXJxgCdi_",
        "outputId": "57ea5337-d867-41c4-bba5-feb23b75ca99",
        "colab": {
          "base_uri": "https://localhost:8080/"
        }
      },
      "source": [
        "# Access specific index from the numpy array\n",
        "x[0]"
      ],
      "execution_count": 37,
      "outputs": [
        {
          "output_type": "execute_result",
          "data": {
            "text/plain": [
              "20"
            ]
          },
          "metadata": {
            "tags": []
          },
          "execution_count": 37
        }
      ]
    },
    {
      "cell_type": "code",
      "metadata": {
        "id": "EjisujRgCdh4",
        "outputId": "c6c2134d-6af4-4117-d5ce-e88ae73ab059",
        "colab": {
          "base_uri": "https://localhost:8080/"
        }
      },
      "source": [
        "# Starting from the first index 0 up until and NOT inlcluding the last element\n",
        "x[:-2]"
      ],
      "execution_count": 38,
      "outputs": [
        {
          "output_type": "execute_result",
          "data": {
            "text/plain": [
              "array([20, 40, 50])"
            ]
          },
          "metadata": {
            "tags": []
          },
          "execution_count": 38
        }
      ]
    },
    {
      "cell_type": "code",
      "metadata": {
        "id": "1nWlP602Cdg3",
        "outputId": "64bc11bd-142b-469a-84f4-6fc57139c731",
        "colab": {
          "base_uri": "https://localhost:8080/"
        }
      },
      "source": [
        "# Broadcasting, altering several values in a numpy array at once\n",
        "x[:2] = 10\n",
        "x"
      ],
      "execution_count": 39,
      "outputs": [
        {
          "output_type": "execute_result",
          "data": {
            "text/plain": [
              "array([10, 10, 50, 21, 15])"
            ]
          },
          "metadata": {
            "tags": []
          },
          "execution_count": 39
        }
      ]
    },
    {
      "cell_type": "code",
      "metadata": {
        "id": "fVKbwHguCddn",
        "outputId": "756678c5-5b0b-41cc-f18d-839088e326cd",
        "colab": {
          "base_uri": "https://localhost:8080/"
        }
      },
      "source": [
        "# Let's define a two dimensional numpy array\n",
        "mt = np.random.randint(1,10,(5,5))\n",
        "mt"
      ],
      "execution_count": 40,
      "outputs": [
        {
          "output_type": "execute_result",
          "data": {
            "text/plain": [
              "array([[2, 6, 6, 7, 6],\n",
              "       [2, 8, 1, 9, 3],\n",
              "       [5, 3, 9, 3, 3],\n",
              "       [3, 2, 9, 6, 6],\n",
              "       [9, 3, 2, 2, 7]])"
            ]
          },
          "metadata": {
            "tags": []
          },
          "execution_count": 40
        }
      ]
    },
    {
      "cell_type": "code",
      "metadata": {
        "id": "Ea7ukwEzCda-",
        "outputId": "3e292bc7-5ba2-436e-faf5-e5d6258e438d",
        "colab": {
          "base_uri": "https://localhost:8080/"
        }
      },
      "source": [
        "# Get a row from a mtrix\n",
        "mt[1]"
      ],
      "execution_count": 41,
      "outputs": [
        {
          "output_type": "execute_result",
          "data": {
            "text/plain": [
              "array([2, 8, 1, 9, 3])"
            ]
          },
          "metadata": {
            "tags": []
          },
          "execution_count": 41
        }
      ]
    },
    {
      "cell_type": "code",
      "metadata": {
        "id": "8KJk10J8Ci8k",
        "outputId": "6e23d22f-c298-4811-8786-0f8df32081af",
        "colab": {
          "base_uri": "https://localhost:8080/"
        }
      },
      "source": [
        "# Get one element\n",
        "mt[1][2]"
      ],
      "execution_count": 42,
      "outputs": [
        {
          "output_type": "execute_result",
          "data": {
            "text/plain": [
              "1"
            ]
          },
          "metadata": {
            "tags": []
          },
          "execution_count": 42
        }
      ]
    },
    {
      "cell_type": "code",
      "metadata": {
        "id": "lWsIgHYRCi5e",
        "outputId": "d863d9f0-4eba-4ec2-f0eb-aeb326a0cf31",
        "colab": {
          "base_uri": "https://localhost:8080/"
        }
      },
      "source": [
        "mini_matrix = mt[:3]\n",
        "mini_matrix"
      ],
      "execution_count": 43,
      "outputs": [
        {
          "output_type": "execute_result",
          "data": {
            "text/plain": [
              "array([[2, 6, 6, 7, 6],\n",
              "       [2, 8, 1, 9, 3],\n",
              "       [5, 3, 9, 3, 3]])"
            ]
          },
          "metadata": {
            "tags": []
          },
          "execution_count": 43
        }
      ]
    },
    {
      "cell_type": "code",
      "metadata": {
        "id": "Gn7-PKS9Ci4c",
        "outputId": "8a1ba84f-1e3c-4fcc-f157-2032452bcb96",
        "colab": {
          "base_uri": "https://localhost:8080/"
        }
      },
      "source": [
        "mini_matrix = mt[2:]\n",
        "mini_matrix"
      ],
      "execution_count": 44,
      "outputs": [
        {
          "output_type": "execute_result",
          "data": {
            "text/plain": [
              "array([[5, 3, 9, 3, 3],\n",
              "       [3, 2, 9, 6, 6],\n",
              "       [9, 3, 2, 2, 7]])"
            ]
          },
          "metadata": {
            "tags": []
          },
          "execution_count": 44
        }
      ]
    },
    {
      "cell_type": "code",
      "metadata": {
        "id": "MGap8pfACi1M",
        "outputId": "f54b658a-09a9-4e87-aeba-9777fc854d6c",
        "colab": {
          "base_uri": "https://localhost:8080/"
        }
      },
      "source": [
        "mini_matrix = mt[:, :2]\n",
        "mini_matrix"
      ],
      "execution_count": 45,
      "outputs": [
        {
          "output_type": "execute_result",
          "data": {
            "text/plain": [
              "array([[2, 6],\n",
              "       [2, 8],\n",
              "       [5, 3],\n",
              "       [3, 2],\n",
              "       [9, 3]])"
            ]
          },
          "metadata": {
            "tags": []
          },
          "execution_count": 45
        }
      ]
    },
    {
      "cell_type": "code",
      "metadata": {
        "id": "ANJFZWTdCdX9",
        "outputId": "fdcfa1d1-a720-4b15-9265-21f237c89e6a",
        "colab": {
          "base_uri": "https://localhost:8080/"
        }
      },
      "source": [
        "mini_matrix = mt[:, 2:]\n",
        "mini_matrix"
      ],
      "execution_count": 46,
      "outputs": [
        {
          "output_type": "execute_result",
          "data": {
            "text/plain": [
              "array([[6, 7, 6],\n",
              "       [1, 9, 3],\n",
              "       [9, 3, 3],\n",
              "       [9, 6, 6],\n",
              "       [2, 2, 7]])"
            ]
          },
          "metadata": {
            "tags": []
          },
          "execution_count": 46
        }
      ]
    },
    {
      "cell_type": "markdown",
      "metadata": {
        "id": "zgyFPV5R8dUS"
      },
      "source": [
        "**MINI CHALLENGE #6:**\n",
        "- **In the following matrix, replace the last row with -1**\n",
        "- **Multiply the 2x2 matrix in the upper right corner by 2**\n",
        "\n",
        "\n",
        "\n",
        "```\n",
        "X = [2 30 20 -2 -4]\n",
        "    [3 4  40 -3 -2]\n",
        "    [-3 4 -6 90 10]\n",
        "    [25 45 34 22 12]\n",
        "    [13 24 22 32 37]\n",
        "```\n",
        "\n"
      ]
    },
    {
      "cell_type": "markdown",
      "metadata": {
        "id": "juuMOEq7Col_"
      },
      "source": [
        "# 6. ELEMENTS SELECTION (CONDITIONAL)"
      ]
    },
    {
      "cell_type": "code",
      "metadata": {
        "id": "UujCvuhMCt4K",
        "outputId": "d952db90-7916-4b51-d0c0-52d5132fd6ae",
        "colab": {
          "base_uri": "https://localhost:8080/"
        }
      },
      "source": [
        "X = np.array([[2, 30, 20, -2, -4],\n",
        "    [3, 4,  40, -3, -2],\n",
        "    [-3, 4, -6, 90, 10],\n",
        "    [25, 45, 34, 22, 12],\n",
        "    [13, 24, 22, 32, 37]])\n",
        "X"
      ],
      "execution_count": 47,
      "outputs": [
        {
          "output_type": "execute_result",
          "data": {
            "text/plain": [
              "array([[ 2, 30, 20, -2, -4],\n",
              "       [ 3,  4, 40, -3, -2],\n",
              "       [-3,  4, -6, 90, 10],\n",
              "       [25, 45, 34, 22, 12],\n",
              "       [13, 24, 22, 32, 37]])"
            ]
          },
          "metadata": {
            "tags": []
          },
          "execution_count": 47
        }
      ]
    },
    {
      "cell_type": "code",
      "metadata": {
        "id": "JBgJ8ugyCvht",
        "outputId": "0d88c3d3-e112-449e-a988-86d1f297ab9e",
        "colab": {
          "base_uri": "https://localhost:8080/"
        }
      },
      "source": [
        "X[-1] = -1\n",
        "X"
      ],
      "execution_count": 48,
      "outputs": [
        {
          "output_type": "execute_result",
          "data": {
            "text/plain": [
              "array([[ 2, 30, 20, -2, -4],\n",
              "       [ 3,  4, 40, -3, -2],\n",
              "       [-3,  4, -6, 90, 10],\n",
              "       [25, 45, 34, 22, 12],\n",
              "       [-1, -1, -1, -1, -1]])"
            ]
          },
          "metadata": {
            "tags": []
          },
          "execution_count": 48
        }
      ]
    },
    {
      "cell_type": "code",
      "metadata": {
        "id": "TIQ-A7IBCvgl",
        "outputId": "68cd7bb2-baf1-4504-a334-39498a5948a9",
        "colab": {
          "base_uri": "https://localhost:8080/"
        }
      },
      "source": [
        "X[:2, -2:] = X[:2, -2:] * 2\n",
        "X "
      ],
      "execution_count": 49,
      "outputs": [
        {
          "output_type": "execute_result",
          "data": {
            "text/plain": [
              "array([[ 2, 30, 20, -4, -8],\n",
              "       [ 3,  4, 40, -6, -4],\n",
              "       [-3,  4, -6, 90, 10],\n",
              "       [25, 45, 34, 22, 12],\n",
              "       [-1, -1, -1, -1, -1]])"
            ]
          },
          "metadata": {
            "tags": []
          },
          "execution_count": 49
        }
      ]
    },
    {
      "cell_type": "markdown",
      "metadata": {
        "id": "39QiMh-W8ogs"
      },
      "source": [
        "**MINI CHALLENGE #7:**\n",
        "- **In the following matrix, replace negative elements by 0 and replace odd elements with 25**\n",
        "\n",
        "\n",
        "```\n",
        "X = [2 30 20 -2 -4]\n",
        "    [3 4  40 -3 -2]\n",
        "    [-3 4 -6 90 10]\n",
        "    [25 45 34 22 12]\n",
        "    [13 24 22 32 37]\n",
        "```\n"
      ]
    },
    {
      "cell_type": "code",
      "metadata": {
        "id": "AbN-vySf9gen",
        "outputId": "be3260d2-ccde-4dd1-d2ee-0bbb2fe94a38",
        "colab": {
          "base_uri": "https://localhost:8080/"
        }
      },
      "source": [
        "X = np.array([[2, 30, 20, -2, -4],\n",
        "    [3, 4,  40, -3, -2],\n",
        "    [-3, 4, -6, 90, 10],\n",
        "    [25, 45, 34, 22, 12],\n",
        "    [13, 24, 22, 32, 37]])\n",
        "X"
      ],
      "execution_count": 50,
      "outputs": [
        {
          "output_type": "execute_result",
          "data": {
            "text/plain": [
              "array([[ 2, 30, 20, -2, -4],\n",
              "       [ 3,  4, 40, -3, -2],\n",
              "       [-3,  4, -6, 90, 10],\n",
              "       [25, 45, 34, 22, 12],\n",
              "       [13, 24, 22, 32, 37]])"
            ]
          },
          "metadata": {
            "tags": []
          },
          "execution_count": 50
        }
      ]
    },
    {
      "cell_type": "code",
      "metadata": {
        "id": "ntZZe0_-wl_h",
        "outputId": "d5495a32-fb27-4d50-9bfd-1079d9b9f023",
        "colab": {
          "base_uri": "https://localhost:8080/"
        }
      },
      "source": [
        "X[X<0] = 0\n",
        "X[X%2 != 0] = 25\n",
        "X"
      ],
      "execution_count": 51,
      "outputs": [
        {
          "output_type": "execute_result",
          "data": {
            "text/plain": [
              "array([[ 2, 30, 20,  0,  0],\n",
              "       [25,  4, 40,  0,  0],\n",
              "       [ 0,  4,  0, 90, 10],\n",
              "       [25, 25, 34, 22, 12],\n",
              "       [25, 24, 22, 32, 25]])"
            ]
          },
          "metadata": {
            "tags": []
          },
          "execution_count": 51
        }
      ]
    },
    {
      "cell_type": "markdown",
      "metadata": {
        "id": "dakv7iPFgw7Y"
      },
      "source": [
        "# EXCELLENT JOB!"
      ]
    },
    {
      "cell_type": "markdown",
      "metadata": {
        "id": "pNWQrMz6KnIF"
      },
      "source": [
        "# MINI CHALLENGES SOLUTIONS"
      ]
    },
    {
      "cell_type": "markdown",
      "metadata": {
        "id": "6AMqSvtAKj6o"
      },
      "source": [
        "**MINI CHALLENGE #1 SOLUTION:** \n",
        "- **Write a code that creates the following 2x4 numpy array**\n",
        "\n",
        "```\n",
        "[[4 6 8 7] \n",
        "[20 5 6 9]]\n",
        "```"
      ]
    },
    {
      "cell_type": "code",
      "metadata": {
        "id": "ivvFzDy-KlQP",
        "outputId": "e4978513-a897-4f38-c897-8d4a0514a922",
        "colab": {
          "base_uri": "https://localhost:8080/"
        }
      },
      "source": [
        "x = np.array([[[4, 6, 8, 7] , [20, 5, 6, 9]]])\n",
        "x"
      ],
      "execution_count": 52,
      "outputs": [
        {
          "output_type": "execute_result",
          "data": {
            "text/plain": [
              "array([[[ 4,  6,  8,  7],\n",
              "        [20,  5,  6,  9]]])"
            ]
          },
          "metadata": {
            "tags": []
          },
          "execution_count": 52
        }
      ]
    },
    {
      "cell_type": "markdown",
      "metadata": {
        "id": "2GskzNkOMFu0"
      },
      "source": [
        "**MINI CHALLENGE #2 SOLUTION:**\n",
        "- **Write a code that takes in a number x from the user and creates a 1x20 array with random numbers ranging from 0 to x**"
      ]
    },
    {
      "cell_type": "code",
      "metadata": {
        "id": "0vnDfvwFMFu3",
        "outputId": "51e209bb-3741-42dc-d57d-9cd4784c5a83",
        "colab": {
          "base_uri": "https://localhost:8080/"
        }
      },
      "source": [
        "x = int(input(\"Please enter a positive integer value: \"))\n",
        "x = np.random.randint(1, x, 20)\n",
        "x"
      ],
      "execution_count": 53,
      "outputs": [
        {
          "output_type": "stream",
          "text": [
            "Please enter a positive integer value: 1000\n"
          ],
          "name": "stdout"
        },
        {
          "output_type": "execute_result",
          "data": {
            "text/plain": [
              "array([752, 643, 980,  62,  53, 582, 909, 987, 823, 886, 682, 124, 168,\n",
              "       920, 842, 904,  20, 504, 904, 760])"
            ]
          },
          "metadata": {
            "tags": []
          },
          "execution_count": 53
        }
      ]
    },
    {
      "cell_type": "markdown",
      "metadata": {
        "id": "LOVruiHdMRMd"
      },
      "source": [
        "**MINI CHALLENGE #3 SOLUTION:**\n",
        "- **Write a code that creates a 4x5 array inwhich numbers ranging between 300 and 500 such that the difference between elements is 10**"
      ]
    },
    {
      "cell_type": "code",
      "metadata": {
        "id": "WtSncbsHMRMg",
        "outputId": "a5021fb6-b0ed-4b8d-f89d-2301ac5604bc",
        "colab": {
          "base_uri": "https://localhost:8080/"
        }
      },
      "source": [
        "x = np.arange(300, 500, 10)\n",
        "x.shape"
      ],
      "execution_count": 54,
      "outputs": [
        {
          "output_type": "execute_result",
          "data": {
            "text/plain": [
              "(20,)"
            ]
          },
          "metadata": {
            "tags": []
          },
          "execution_count": 54
        }
      ]
    },
    {
      "cell_type": "code",
      "metadata": {
        "id": "2_8vFVF7MRMp",
        "outputId": "6645881a-46e7-4e92-f39f-ae85e0902e07",
        "colab": {
          "base_uri": "https://localhost:8080/"
        }
      },
      "source": [
        "x = x.reshape(4, 5)\n",
        "print(x)"
      ],
      "execution_count": 55,
      "outputs": [
        {
          "output_type": "stream",
          "text": [
            "[[300 310 320 330 340]\n",
            " [350 360 370 380 390]\n",
            " [400 410 420 430 440]\n",
            " [450 460 470 480 490]]\n"
          ],
          "name": "stdout"
        }
      ]
    },
    {
      "cell_type": "markdown",
      "metadata": {
        "id": "NSuiOFRx1pSY"
      },
      "source": [
        "**MINI CHALLENGE #4 SOLUTION:**\n",
        "- **Write a code that creates a 20x20 numpy array of random values that ranges from -1000 to 1000 and obtain the maximum, minimum, and mean values** "
      ]
    },
    {
      "cell_type": "code",
      "metadata": {
        "id": "445Vi21GMYS7",
        "outputId": "0496a27f-c302-4965-e0aa-7c5a8e4f3848",
        "colab": {
          "base_uri": "https://localhost:8080/"
        }
      },
      "source": [
        "x = np.random.randint(-1000, 1000, (20, 20))\n",
        "print(x)\n",
        "print('The maximum value is: {} and the minimum value is:{}'.format(x.min(), x.max()))"
      ],
      "execution_count": 56,
      "outputs": [
        {
          "output_type": "stream",
          "text": [
            "[[ 677  101  462  560 -271  485 -332  423  404  -47  622  222  -96  160\n",
            "  -962  450  -62  799 -812  624]\n",
            " [-651 -329  431  834 -893  497 -856  882 -401 -903  791  421 -904 -119\n",
            "  -520  -26 -255  225  702  320]\n",
            " [ 929  -57 -224 -538  312  370 -326 -969  398  998  741  392 -466 -132\n",
            "  -448  814  182 -165   11  724]\n",
            " [  20  228 -303  493  411 -240  844  284  -95  960   -6 -518  550 -237\n",
            "   719 -326 -419   10  -84  -56]\n",
            " [  64  297  823 -681 -337  943  576 -365  -94  622 -642   28 -745 -952\n",
            "   693  535 -131  799 -390  233]\n",
            " [-801  263  248 -219 -514 -585 -101 -267 -896  554 -843  920 -135  946\n",
            "  -682 -147    2 -170 -208  -61]\n",
            " [-484 -633    5  782 -219  996  677 -307   65  -20 -587  317 -185  711\n",
            "  -463  934  675  384 -829 -117]\n",
            " [-955 -866 -107  428  360  732  628 -638 -717 -550  380 -145 -629 -996\n",
            "  -826  618 -398 -272  386  317]\n",
            " [ 486  582 -205 -621 -703  437 -962 -919  -75 -557 -138   66 -939  -97\n",
            "     5 -569 -730  409  203 -868]\n",
            " [ 802  145  298 -432 -396 -948  433  957    6  131  642 -455  862  490\n",
            "  -121  -19  133 -330  384  492]\n",
            " [ 275 -713   34 -809 -915  495  418  735  881 -467  -55  684  505 -918\n",
            "   708  551  285  941  683  946]\n",
            " [ 796  929  -12  836  410  -87  994  229  665 -243   48 -249 -904 -281\n",
            "  -307 -204  868 -295  712 -121]\n",
            " [ 935 -979 -912  452 -950  190  989   24 -901  875  690  345 -760  987\n",
            "   700 -666 -857 -114 -417  347]\n",
            " [ 756 -564 -370  681 -742 -299   13  582  928 -942 -855 -279  471  110\n",
            "   278 -865 -332 -231  904 -769]\n",
            " [ 362 -894 -654 -998  732  915 -450 -577 -842 -240  626   54 -328 -409\n",
            "   871  140 -400  254  340 -146]\n",
            " [-445  338 -698  875  658  136 -753  247  180  -30 -565  869  431  474\n",
            "   807  910 -883   69 -230  973]\n",
            " [-861 -590  561  -95  585  197  651  271  619 -852  303  630  676 -419\n",
            "   407  625 -265  821  635  286]\n",
            " [  63  353 -304 -347 -369 -786 -520 -723 -988  -65  787  265 -423 -773\n",
            "   873  649   67  265  728   73]\n",
            " [-460  714  221 -266 -712  926 -318  795 -481  253 -922   11  731 -633\n",
            "  -814 -218 -495 -771 -288  417]\n",
            " [ 507  760  783  743 -854 -323 -360  -85   25 -622  167  180  466  200\n",
            "  -815 -115  786  -31 -315  -31]]\n",
            "The maximum value is: -998 and the minimum value is:998\n"
          ],
          "name": "stdout"
        }
      ]
    },
    {
      "cell_type": "code",
      "metadata": {
        "id": "tIVL0uEr4xsC"
      },
      "source": [
        ""
      ],
      "execution_count": 56,
      "outputs": []
    },
    {
      "cell_type": "markdown",
      "metadata": {
        "id": "s1p4WaNB4yFf"
      },
      "source": [
        "**MINI CHALLENGE #5 SOLUTION:**\n",
        "- **Given the X and Y values below, obtain the distance between them**\n",
        "\n",
        "\n",
        "```\n",
        "X = [3, 20, 30]\n",
        "Y = [4, 6, 7]\n",
        "```\n",
        "\n",
        "\n"
      ]
    },
    {
      "cell_type": "code",
      "metadata": {
        "id": "_GJmf2Pl4yFi",
        "outputId": "46cda085-d558-4eaa-8500-6a908baa5190",
        "colab": {
          "base_uri": "https://localhost:8080/"
        }
      },
      "source": [
        "X = np.array([3, 20, 30])\n",
        "Y = np.array([4, 6, 7])\n",
        "Z = np.sqrt(X**2 + Y**2)\n",
        "Z"
      ],
      "execution_count": 57,
      "outputs": [
        {
          "output_type": "execute_result",
          "data": {
            "text/plain": [
              "array([ 5.        , 20.88061302, 30.8058436 ])"
            ]
          },
          "metadata": {
            "tags": []
          },
          "execution_count": 57
        }
      ]
    },
    {
      "cell_type": "markdown",
      "metadata": {
        "id": "EZ9i2CLm6Iuf"
      },
      "source": [
        "**MINI CHALLENGE #6 SOLUTION:**\n",
        "- **In the following matrix, replace the last row with -1**\n",
        "- **Multiply the 2x2 matrix in the upper right corner by 2**\n",
        "\n",
        "\n",
        "\n",
        "```\n",
        "X = [2 30 20 -2 -4]\n",
        "    [3 4  40 -3 -2]\n",
        "    [-3 4 -6 90 10]\n",
        "    [25 45 34 22 12]\n",
        "    [13 24 22 32 37]\n",
        "```\n",
        "\n",
        "\n"
      ]
    },
    {
      "cell_type": "code",
      "metadata": {
        "id": "qB7S_wIx6Hsm"
      },
      "source": [
        "X = np.array([[2, 30, 20, -2, -4],\n",
        "    [3, 4,  40, -3, -2],\n",
        "    [-3, 4, -6, 90, 10],\n",
        "    [25, 45, 34, 22, 12],\n",
        "    [13, 24, 22, 32, 37]])\n"
      ],
      "execution_count": 58,
      "outputs": []
    },
    {
      "cell_type": "code",
      "metadata": {
        "id": "y98hmGRe7Qtl",
        "outputId": "349cc3e4-d43f-4cae-c179-3137c1b72c9a",
        "colab": {
          "base_uri": "https://localhost:8080/"
        }
      },
      "source": [
        "X[4] = 0\n",
        "X"
      ],
      "execution_count": 59,
      "outputs": [
        {
          "output_type": "execute_result",
          "data": {
            "text/plain": [
              "array([[ 2, 30, 20, -2, -4],\n",
              "       [ 3,  4, 40, -3, -2],\n",
              "       [-3,  4, -6, 90, 10],\n",
              "       [25, 45, 34, 22, 12],\n",
              "       [ 0,  0,  0,  0,  0]])"
            ]
          },
          "metadata": {
            "tags": []
          },
          "execution_count": 59
        }
      ]
    },
    {
      "cell_type": "code",
      "metadata": {
        "id": "6pLZ5lF87UFs"
      },
      "source": [
        "X[:2, 3:]  = X[:2, 3:] * 2"
      ],
      "execution_count": 60,
      "outputs": []
    },
    {
      "cell_type": "code",
      "metadata": {
        "id": "WsqjANlB8Kva",
        "outputId": "07408353-7d32-4a05-b206-8b0008801ab3",
        "colab": {
          "base_uri": "https://localhost:8080/"
        }
      },
      "source": [
        "X"
      ],
      "execution_count": 61,
      "outputs": [
        {
          "output_type": "execute_result",
          "data": {
            "text/plain": [
              "array([[ 2, 30, 20, -4, -8],\n",
              "       [ 3,  4, 40, -6, -4],\n",
              "       [-3,  4, -6, 90, 10],\n",
              "       [25, 45, 34, 22, 12],\n",
              "       [ 0,  0,  0,  0,  0]])"
            ]
          },
          "metadata": {
            "tags": []
          },
          "execution_count": 61
        }
      ]
    },
    {
      "cell_type": "markdown",
      "metadata": {
        "id": "2oikl6JS9YUs"
      },
      "source": [
        "**MINI CHALLENGE #7 SOLUTION:**\n",
        "- **In the following matrix, replace negative elements by 0 and replace odd elements with 25**\n",
        "\n",
        "\n",
        "```\n",
        "X = [2 30 20 -2 -4]\n",
        "    [3 4  40 -3 -2]\n",
        "    [-3 4 -6 90 10]\n",
        "    [25 45 34 22 12]\n",
        "    [13 24 22 32 37]\n",
        "```\n"
      ]
    },
    {
      "cell_type": "code",
      "metadata": {
        "id": "h105KzGr9YUu",
        "outputId": "1192b940-b1ca-498f-9314-1535f7f42943",
        "colab": {
          "base_uri": "https://localhost:8080/"
        }
      },
      "source": [
        "X = np.array([[2, 30, 20, -2, -4],\n",
        "    [3, 4,  40, -3, -2],\n",
        "    [-3, 4, -6, 90, 10],\n",
        "    [25, 45, 34, 22, 12],\n",
        "    [13, 24, 22, 32, 37]])\n",
        "\n",
        "X[X%2==1] = 25\n",
        "X[X<0] = 0\n",
        "X"
      ],
      "execution_count": 62,
      "outputs": [
        {
          "output_type": "execute_result",
          "data": {
            "text/plain": [
              "array([[ 2, 30, 20,  0,  0],\n",
              "       [25,  4, 40, 25,  0],\n",
              "       [25,  4,  0, 90, 10],\n",
              "       [25, 25, 34, 22, 12],\n",
              "       [25, 24, 22, 32, 25]])"
            ]
          },
          "metadata": {
            "tags": []
          },
          "execution_count": 62
        }
      ]
    }
  ]
}
