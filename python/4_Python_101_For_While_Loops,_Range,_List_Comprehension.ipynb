{
  "nbformat": 4,
  "nbformat_minor": 0,
  "metadata": {
    "colab": {
      "name": "4. Python 101 - For While Loops, Range, List Comprehension - Skeleton.ipynb",
      "provenance": [],
      "collapsed_sections": [],
      "include_colab_link": true
    },
    "kernelspec": {
      "name": "python3",
      "display_name": "Python 3"
    }
  },
  "cells": [
    {
      "cell_type": "markdown",
      "metadata": {
        "id": "view-in-github",
        "colab_type": "text"
      },
      "source": [
        "<a href=\"https://colab.research.google.com/github/abdurrahmanshidiq/Finance-Analysis/blob/main/4_Python_101_For_While_Loops%2C_Range%2C_List_Comprehension.ipynb\" target=\"_parent\"><img src=\"https://colab.research.google.com/assets/colab-badge.svg\" alt=\"Open In Colab\"/></a>"
      ]
    },
    {
      "cell_type": "markdown",
      "metadata": {
        "id": "BK5uIrxoLRtf"
      },
      "source": [
        "# 1. FOR LOOPS"
      ]
    },
    {
      "cell_type": "code",
      "metadata": {
        "id": "IeM5ykmzHuYB",
        "outputId": "1520e08d-4bf0-4933-9e96-a0df931b9dd2",
        "colab": {
          "base_uri": "https://localhost:8080/",
          "height": 34
        }
      },
      "source": [
        "# For loops are used for iterating over a sequence (a list, a tuple, a dictionary, a set, or a string).\n",
        "# An action can be executed once for each item in a list, tuple of the for loop.\n",
        "my_list = [1, 2, 3]\n",
        "my_list"
      ],
      "execution_count": 1,
      "outputs": [
        {
          "output_type": "execute_result",
          "data": {
            "text/plain": [
              "[1, 2, 3]"
            ]
          },
          "metadata": {
            "tags": []
          },
          "execution_count": 1
        }
      ]
    },
    {
      "cell_type": "code",
      "metadata": {
        "id": "R0jpLRvsJ4Yf",
        "outputId": "c53a6716-6d5b-4028-a15f-929485f05777",
        "colab": {
          "base_uri": "https://localhost:8080/",
          "height": 68
        }
      },
      "source": [
        "for i in my_list:\n",
        "  print(i)"
      ],
      "execution_count": 2,
      "outputs": [
        {
          "output_type": "stream",
          "text": [
            "1\n",
            "2\n",
            "3\n"
          ],
          "name": "stdout"
        }
      ]
    },
    {
      "cell_type": "code",
      "metadata": {
        "id": "a5dXYSWBJ5Ze",
        "outputId": "75689cff-c903-45e5-ab6d-73d7cee4710c",
        "colab": {
          "base_uri": "https://localhost:8080/",
          "height": 119
        }
      },
      "source": [
        "# you can do more than one task for every loop such as printing out 'Hello world' \n",
        "for i in my_list:\n",
        "    print(i)\n",
        "    print('Hello World')"
      ],
      "execution_count": 3,
      "outputs": [
        {
          "output_type": "stream",
          "text": [
            "1\n",
            "Hello World\n",
            "2\n",
            "Hello World\n",
            "3\n",
            "Hello World\n"
          ],
          "name": "stdout"
        }
      ]
    },
    {
      "cell_type": "code",
      "metadata": {
        "id": "q76leWB9J5bx"
      },
      "source": [
        "# List of strings\n",
        "my_list = ['AAPL', 'GOOG', 'T', 'TSLA', 'SP500']"
      ],
      "execution_count": 4,
      "outputs": []
    },
    {
      "cell_type": "code",
      "metadata": {
        "id": "DD9E3VLPJ5fo",
        "outputId": "3dfe76be-ca24-4334-f2e1-69d3bfedad16",
        "colab": {
          "base_uri": "https://localhost:8080/",
          "height": 102
        }
      },
      "source": [
        "for i in my_list:\n",
        "    print(i)"
      ],
      "execution_count": 5,
      "outputs": [
        {
          "output_type": "stream",
          "text": [
            "AAPL\n",
            "GOOG\n",
            "T\n",
            "TSLA\n",
            "SP500\n"
          ],
          "name": "stdout"
        }
      ]
    },
    {
      "cell_type": "code",
      "metadata": {
        "id": "2QI7iU17J5j_",
        "outputId": "bdb47c50-8f50-4f3f-892d-d258d86f2bcd",
        "colab": {
          "base_uri": "https://localhost:8080/",
          "height": 85
        }
      },
      "source": [
        "# you can loop over a string as follows\n",
        "for i in 'TSLA':\n",
        "  print(i)"
      ],
      "execution_count": 6,
      "outputs": [
        {
          "output_type": "stream",
          "text": [
            "T\n",
            "S\n",
            "L\n",
            "A\n"
          ],
          "name": "stdout"
        }
      ]
    },
    {
      "cell_type": "markdown",
      "metadata": {
        "id": "VHeLtXS0Z5XU"
      },
      "source": [
        "**MINI CHALLENGE #1:**\n",
        "- **Write a code that takes in a string and prints it out on the screen except for any letter 'T'. You can replace the letter 'T' with '*'.**"
      ]
    },
    {
      "cell_type": "code",
      "metadata": {
        "id": "b_NU7mBfa-SB",
        "outputId": "4ed191ef-48f7-4c8d-f370-57f9506419ed",
        "colab": {
          "base_uri": "https://localhost:8080/",
          "height": 85
        }
      },
      "source": [
        "for i in 'TSLA':\n",
        "  if i =='T':\n",
        "    print('*')\n",
        "  else:\n",
        "    print(i)"
      ],
      "execution_count": 7,
      "outputs": [
        {
          "output_type": "stream",
          "text": [
            "*\n",
            "S\n",
            "L\n",
            "A\n"
          ],
          "name": "stdout"
        }
      ]
    },
    {
      "cell_type": "markdown",
      "metadata": {
        "id": "5ShxNDJeLVVo"
      },
      "source": [
        "# 2. RANGE"
      ]
    },
    {
      "cell_type": "code",
      "metadata": {
        "id": "fsH8H4IwJ5mi"
      },
      "source": [
        "# Range() generates a list of numbers, which is used to iterate over with for loops.\n",
        "# range() is 0-index based, meaning list indexes start at 0, not 1. \n",
        "# The last integer generated by range() is up to, but not including, last element. \n",
        "# Example: range(0, 10) generates integers from 0 up to, but not including, 10."
      ],
      "execution_count": 8,
      "outputs": []
    },
    {
      "cell_type": "code",
      "metadata": {
        "id": "LfnqYODNJ5qq",
        "outputId": "03fafe6b-f839-428a-8b5b-7ee3bdc4ec14",
        "colab": {
          "base_uri": "https://localhost:8080/",
          "height": 119
        }
      },
      "source": [
        "for i in  range(6):\n",
        "  print(i)"
      ],
      "execution_count": 9,
      "outputs": [
        {
          "output_type": "stream",
          "text": [
            "0\n",
            "1\n",
            "2\n",
            "3\n",
            "4\n",
            "5\n"
          ],
          "name": "stdout"
        }
      ]
    },
    {
      "cell_type": "code",
      "metadata": {
        "id": "b4XBIA2KJ5pT",
        "outputId": "d081706b-e605-42ae-ddf0-433efd7fb440",
        "colab": {
          "base_uri": "https://localhost:8080/",
          "height": 187
        }
      },
      "source": [
        "# Range of numbers from 1 to 20 with steps of 2\n",
        "for i in range(1,20,2):\n",
        "  print(i)"
      ],
      "execution_count": 10,
      "outputs": [
        {
          "output_type": "stream",
          "text": [
            "1\n",
            "3\n",
            "5\n",
            "7\n",
            "9\n",
            "11\n",
            "13\n",
            "15\n",
            "17\n",
            "19\n"
          ],
          "name": "stdout"
        }
      ]
    },
    {
      "cell_type": "code",
      "metadata": {
        "id": "dOpRLPUNJ5iO",
        "outputId": "b91c9a70-246e-45ad-8946-5c07ad97dd78",
        "colab": {
          "base_uri": "https://localhost:8080/",
          "height": 102
        }
      },
      "source": [
        "for i in reversed(range(5)):\n",
        "    print(i)"
      ],
      "execution_count": 11,
      "outputs": [
        {
          "output_type": "stream",
          "text": [
            "4\n",
            "3\n",
            "2\n",
            "1\n",
            "0\n"
          ],
          "name": "stdout"
        }
      ]
    },
    {
      "cell_type": "code",
      "metadata": {
        "id": "S4ZZ5HlFbMoY"
      },
      "source": [
        ""
      ],
      "execution_count": 11,
      "outputs": []
    },
    {
      "cell_type": "markdown",
      "metadata": {
        "id": "eRgAw_bLbNBj"
      },
      "source": [
        "**MINI CHALLENGE #2:**\n",
        "- **Write a code that takes in the maximum and minimum limits from the user and prints out even numbers only between the provided range**"
      ]
    },
    {
      "cell_type": "code",
      "metadata": {
        "id": "TzPMQq-obcAI",
        "outputId": "c5655748-694d-4ee2-b175-fced39a11d40",
        "colab": {
          "base_uri": "https://localhost:8080/",
          "height": 68
        }
      },
      "source": [
        "min = int(input('Enter minimum number : '))\n",
        "max = int(input('Enter maximum number : '))\n",
        "for i in range(min,max):\n",
        "  if i%2 == 0 :\n",
        "    print(i)"
      ],
      "execution_count": 12,
      "outputs": [
        {
          "output_type": "stream",
          "text": [
            "Enter minimum number : 2\n",
            "Enter maximum number : 4\n",
            "2\n"
          ],
          "name": "stdout"
        }
      ]
    },
    {
      "cell_type": "markdown",
      "metadata": {
        "id": "KoBeo2-NW-IG"
      },
      "source": [
        "**MINI CHALLENGE #3:**\n",
        "- **Write a code that generates the following table:**\n",
        "```\n",
        "1   1    1\n",
        "2   4    8\n",
        "3   9   27\n",
        "4  16   64\n",
        "5  25  125\n",
        "6  36  216\n",
        "7  49  343\n",
        "8  64  512\n",
        "9  81  729\n",
        "10 100 1000\n",
        "```\n",
        "\n",
        "\n"
      ]
    },
    {
      "cell_type": "code",
      "metadata": {
        "id": "lXI6lOfTB7KR",
        "outputId": "9c426795-2578-4a27-a61e-111abca46274",
        "colab": {
          "base_uri": "https://localhost:8080/",
          "height": 187
        }
      },
      "source": [
        "for i in range(1,11):\n",
        "  print(f'{i} {i*i} {i*i*i}')"
      ],
      "execution_count": 13,
      "outputs": [
        {
          "output_type": "stream",
          "text": [
            "1 1 1\n",
            "2 4 8\n",
            "3 9 27\n",
            "4 16 64\n",
            "5 25 125\n",
            "6 36 216\n",
            "7 49 343\n",
            "8 64 512\n",
            "9 81 729\n",
            "10 100 1000\n"
          ],
          "name": "stdout"
        }
      ]
    },
    {
      "cell_type": "markdown",
      "metadata": {
        "id": "7xt72C8NNgN8"
      },
      "source": [
        "# 3. WHILE LOOPS"
      ]
    },
    {
      "cell_type": "code",
      "metadata": {
        "id": "G1Du3nteNlfR",
        "outputId": "bba26071-0f86-4bee-8f53-abadd390a02e",
        "colab": {
          "base_uri": "https://localhost:8080/",
          "height": 527
        }
      },
      "source": [
        "# While loop can be used to execute a set of statements as long as a certain condition holds true.\n",
        "i = 1\n",
        "while i < 31:\n",
        "  print(i)\n",
        "  i += 1"
      ],
      "execution_count": 14,
      "outputs": [
        {
          "output_type": "stream",
          "text": [
            "1\n",
            "2\n",
            "3\n",
            "4\n",
            "5\n",
            "6\n",
            "7\n",
            "8\n",
            "9\n",
            "10\n",
            "11\n",
            "12\n",
            "13\n",
            "14\n",
            "15\n",
            "16\n",
            "17\n",
            "18\n",
            "19\n",
            "20\n",
            "21\n",
            "22\n",
            "23\n",
            "24\n",
            "25\n",
            "26\n",
            "27\n",
            "28\n",
            "29\n",
            "30\n"
          ],
          "name": "stdout"
        }
      ]
    },
    {
      "cell_type": "code",
      "metadata": {
        "id": "z0sUEdgvNoFe",
        "outputId": "f43b189e-f2e3-4d73-aed5-10f4701ed612",
        "colab": {
          "base_uri": "https://localhost:8080/",
          "height": 527
        }
      },
      "source": [
        "for i in range(1, 31):\n",
        "    print(i)"
      ],
      "execution_count": 15,
      "outputs": [
        {
          "output_type": "stream",
          "text": [
            "1\n",
            "2\n",
            "3\n",
            "4\n",
            "5\n",
            "6\n",
            "7\n",
            "8\n",
            "9\n",
            "10\n",
            "11\n",
            "12\n",
            "13\n",
            "14\n",
            "15\n",
            "16\n",
            "17\n",
            "18\n",
            "19\n",
            "20\n",
            "21\n",
            "22\n",
            "23\n",
            "24\n",
            "25\n",
            "26\n",
            "27\n",
            "28\n",
            "29\n",
            "30\n"
          ],
          "name": "stdout"
        }
      ]
    },
    {
      "cell_type": "markdown",
      "metadata": {
        "id": "lB2soXiSUWDd"
      },
      "source": [
        "**MINI CHALLENGE #4:**\n",
        "- **Write a code that displays numbers from 1 to 30 using for and while loops**\n"
      ]
    },
    {
      "cell_type": "code",
      "metadata": {
        "id": "RY_3xRVRXWuL",
        "outputId": "bd806314-7ba9-415b-859d-c7f240a95312",
        "colab": {
          "base_uri": "https://localhost:8080/",
          "height": 527
        }
      },
      "source": [
        "i = 1\n",
        "while i < 31:\n",
        "  print(i)\n",
        "  i += 1"
      ],
      "execution_count": 16,
      "outputs": [
        {
          "output_type": "stream",
          "text": [
            "1\n",
            "2\n",
            "3\n",
            "4\n",
            "5\n",
            "6\n",
            "7\n",
            "8\n",
            "9\n",
            "10\n",
            "11\n",
            "12\n",
            "13\n",
            "14\n",
            "15\n",
            "16\n",
            "17\n",
            "18\n",
            "19\n",
            "20\n",
            "21\n",
            "22\n",
            "23\n",
            "24\n",
            "25\n",
            "26\n",
            "27\n",
            "28\n",
            "29\n",
            "30\n"
          ],
          "name": "stdout"
        }
      ]
    },
    {
      "cell_type": "code",
      "metadata": {
        "id": "l0keN1ypFOXl",
        "outputId": "cf18960a-67bc-42ca-edcc-3b9d432928e3",
        "colab": {
          "base_uri": "https://localhost:8080/",
          "height": 527
        }
      },
      "source": [
        "for i in range(1,31):\n",
        "  print(i)"
      ],
      "execution_count": 17,
      "outputs": [
        {
          "output_type": "stream",
          "text": [
            "1\n",
            "2\n",
            "3\n",
            "4\n",
            "5\n",
            "6\n",
            "7\n",
            "8\n",
            "9\n",
            "10\n",
            "11\n",
            "12\n",
            "13\n",
            "14\n",
            "15\n",
            "16\n",
            "17\n",
            "18\n",
            "19\n",
            "20\n",
            "21\n",
            "22\n",
            "23\n",
            "24\n",
            "25\n",
            "26\n",
            "27\n",
            "28\n",
            "29\n",
            "30\n"
          ],
          "name": "stdout"
        }
      ]
    },
    {
      "cell_type": "markdown",
      "metadata": {
        "id": "ZIueG9h3XXTC"
      },
      "source": [
        "**MINI CHALLENGE #5:**\n",
        "- **Create a rolling dice game that assume we have two dice (#1 and #2). The dice is being thrown and a random number is generated everytime. The game should be designed such that it prompts the user to ask if he/she would like to keep playing or exit the game.**"
      ]
    },
    {
      "cell_type": "code",
      "metadata": {
        "id": "e5lIJV7KnV9W",
        "outputId": "79afa845-0fbb-4e57-843a-c0d15ceb74f4",
        "colab": {
          "base_uri": "https://localhost:8080/",
          "height": 85
        }
      },
      "source": [
        "import random\n",
        "\n",
        "roll = 'y'\n",
        "\n",
        "while roll == 'y':\n",
        "  print('Rolling the dice.... please wait...')\n",
        "  print('first number : {}'.format(random.randint(1,6)))\n",
        "  print('second number : {}'.format(random.randint(1,6)))\n",
        "\n",
        "  roll = input('Roll again ? [y/n]')"
      ],
      "execution_count": 46,
      "outputs": [
        {
          "output_type": "stream",
          "text": [
            "Rolling the dice.... please wait...\n",
            "first number : 1\n",
            "second number : 3\n",
            "Roll again ? [y/n]n\n"
          ],
          "name": "stdout"
        }
      ]
    },
    {
      "cell_type": "markdown",
      "metadata": {
        "id": "9wunXtl0M9sT"
      },
      "source": [
        "# 4. BREAK A LOOP"
      ]
    },
    {
      "cell_type": "code",
      "metadata": {
        "id": "Zl8mvmT3J5eY"
      },
      "source": [
        "# break() is used to exit a for loop or a while loop\n",
        "# continue() is used to skip the current block, and return to the \"for\" or \"while\" statement."
      ],
      "execution_count": 19,
      "outputs": []
    },
    {
      "cell_type": "code",
      "metadata": {
        "id": "mYbZR3i6NH8k"
      },
      "source": [
        "my_list = [\"GOOG\", \"AAPL\", \"T\", \"TSLA\", \"SP500\"]"
      ],
      "execution_count": 20,
      "outputs": []
    },
    {
      "cell_type": "code",
      "metadata": {
        "id": "P0gbDVWVNMzw",
        "outputId": "2bc524b3-c133-412d-bd94-f3ccbcb53013",
        "colab": {
          "base_uri": "https://localhost:8080/",
          "height": 34
        }
      },
      "source": [
        "my_list"
      ],
      "execution_count": 21,
      "outputs": [
        {
          "output_type": "execute_result",
          "data": {
            "text/plain": [
              "['GOOG', 'AAPL', 'T', 'TSLA', 'SP500']"
            ]
          },
          "metadata": {
            "tags": []
          },
          "execution_count": 21
        }
      ]
    },
    {
      "cell_type": "code",
      "metadata": {
        "id": "JGerA93sNM4C",
        "outputId": "d83f994b-94b6-42f5-e1e2-dc6796263664",
        "colab": {
          "base_uri": "https://localhost:8080/",
          "height": 102
        }
      },
      "source": [
        "# print out all elements in the list\n",
        "for i in my_list:\n",
        "    print(i)"
      ],
      "execution_count": 22,
      "outputs": [
        {
          "output_type": "stream",
          "text": [
            "GOOG\n",
            "AAPL\n",
            "T\n",
            "TSLA\n",
            "SP500\n"
          ],
          "name": "stdout"
        }
      ]
    },
    {
      "cell_type": "code",
      "metadata": {
        "id": "7gsSn9R9NNBH",
        "outputId": "c31c0421-b88d-4532-c355-ab57e39d1c92",
        "colab": {
          "base_uri": "https://localhost:8080/",
          "height": 68
        }
      },
      "source": [
        "# print out all elements in the list up until the AT&T stock (Ticker Symbol = T) is detected\n",
        "for i in my_list:\n",
        "  print(i)\n",
        "  if i == 'T':\n",
        "    break \n"
      ],
      "execution_count": 23,
      "outputs": [
        {
          "output_type": "stream",
          "text": [
            "GOOG\n",
            "AAPL\n",
            "T\n"
          ],
          "name": "stdout"
        }
      ]
    },
    {
      "cell_type": "code",
      "metadata": {
        "id": "Rja3f7RiNM_F",
        "outputId": "0e1fb155-a996-48c2-a153-9085770294e0",
        "colab": {
          "base_uri": "https://localhost:8080/",
          "height": 102
        }
      },
      "source": [
        "# Print only odd elements and skip even numbers\n",
        "my_list = [1, 2, 3, 4, 5, 6, 7, 8, 9, 10]\n",
        "for i in my_list:\n",
        "  if i%2 == 0:\n",
        "    continue\n",
        "  print(i)"
      ],
      "execution_count": 24,
      "outputs": [
        {
          "output_type": "stream",
          "text": [
            "1\n",
            "3\n",
            "5\n",
            "7\n",
            "9\n"
          ],
          "name": "stdout"
        }
      ]
    },
    {
      "cell_type": "markdown",
      "metadata": {
        "id": "JF9CljMnYwEi"
      },
      "source": [
        "**MINI CHALLENGE #6:**\n",
        "- **Write a code that continiously gets data from the user and calculates the average and print out on the screen. The code exits when the user enters 'e'.**"
      ]
    },
    {
      "cell_type": "code",
      "metadata": {
        "id": "TX4H23EPRnup",
        "outputId": "56b1fdd8-0fa8-4004-fc9d-d358917f1a43",
        "colab": {
          "base_uri": "https://localhost:8080/",
          "height": 119
        }
      },
      "source": [
        "print('Keep entering numbers, I will display the average')\n",
        "\n",
        "avg = 0\n",
        "n = 0\n",
        "\n",
        "\n",
        "while True:\n",
        "  num = input('Enter numbers : ')\n",
        "  if num == 'e':\n",
        "    break\n",
        "\n",
        "  x = int(num)\n",
        "  n += 1\n",
        "\n",
        "  avg =   ((avg * (n - 1) ) + x) / n\n",
        "  print (\"The current average is \", avg)\n"
      ],
      "execution_count": 25,
      "outputs": [
        {
          "output_type": "stream",
          "text": [
            "Keep entering numbers, I will display the average\n",
            "Enter numbers : 7\n",
            "The current average is  7.0\n",
            "Enter numbers : 2\n",
            "The current average is  4.5\n",
            "Enter numbers : e\n"
          ],
          "name": "stdout"
        }
      ]
    },
    {
      "cell_type": "markdown",
      "metadata": {
        "id": "22kF_RupOG2o"
      },
      "source": [
        "# 5. NESTED LOOPS"
      ]
    },
    {
      "cell_type": "code",
      "metadata": {
        "id": "rL6xaGIbNM69",
        "outputId": "dfaa6573-8099-45e5-8a29-a658ef4db7fc",
        "colab": {
          "base_uri": "https://localhost:8080/",
          "height": 527
        }
      },
      "source": [
        "# Nested loops are loops that exist inside the body of another loop\n",
        "for i in range(1,4):\n",
        "  for m in range(1,11):\n",
        "    print('{} * {} = {}'.format(i,m,i*m))"
      ],
      "execution_count": 26,
      "outputs": [
        {
          "output_type": "stream",
          "text": [
            "1 * 1 = 1\n",
            "1 * 2 = 2\n",
            "1 * 3 = 3\n",
            "1 * 4 = 4\n",
            "1 * 5 = 5\n",
            "1 * 6 = 6\n",
            "1 * 7 = 7\n",
            "1 * 8 = 8\n",
            "1 * 9 = 9\n",
            "1 * 10 = 10\n",
            "2 * 1 = 2\n",
            "2 * 2 = 4\n",
            "2 * 3 = 6\n",
            "2 * 4 = 8\n",
            "2 * 5 = 10\n",
            "2 * 6 = 12\n",
            "2 * 7 = 14\n",
            "2 * 8 = 16\n",
            "2 * 9 = 18\n",
            "2 * 10 = 20\n",
            "3 * 1 = 3\n",
            "3 * 2 = 6\n",
            "3 * 3 = 9\n",
            "3 * 4 = 12\n",
            "3 * 5 = 15\n",
            "3 * 6 = 18\n",
            "3 * 7 = 21\n",
            "3 * 8 = 24\n",
            "3 * 9 = 27\n",
            "3 * 10 = 30\n"
          ],
          "name": "stdout"
        }
      ]
    },
    {
      "cell_type": "code",
      "metadata": {
        "id": "Xpe6MiCiNM2L",
        "outputId": "3f6517af-1fac-4133-c212-85c8ff75c6bf",
        "colab": {
          "base_uri": "https://localhost:8080/",
          "height": 170
        }
      },
      "source": [
        "color_list = ['black', 'white', 'gold']\n",
        "phone_list = ['iphone', 'samsung', 'blackberry']\n",
        "\n",
        "for c in color_list:\n",
        "  for p in phone_list:\n",
        "    print(c,p)"
      ],
      "execution_count": 27,
      "outputs": [
        {
          "output_type": "stream",
          "text": [
            "black iphone\n",
            "black samsung\n",
            "black blackberry\n",
            "white iphone\n",
            "white samsung\n",
            "white blackberry\n",
            "gold iphone\n",
            "gold samsung\n",
            "gold blackberry\n"
          ],
          "name": "stdout"
        }
      ]
    },
    {
      "cell_type": "markdown",
      "metadata": {
        "id": "r9D5aZhAfa-O"
      },
      "source": [
        "**MINI CHALLENGE #7:**\n",
        "- **Write a code that takes in a number (range between 1 and 9) from the user and print out the multiplication table up until that number.**"
      ]
    },
    {
      "cell_type": "code",
      "metadata": {
        "id": "LD-wO03co0QI",
        "outputId": "98652680-714e-403e-cf41-8315b8704ee7",
        "colab": {
          "base_uri": "https://localhost:8080/",
          "height": 731
        }
      },
      "source": [
        "num = int(input('enter a number between 1 - 9 : '))\n",
        "again = 'y'\n",
        "while again == 'y':\n",
        "  for n in range(1,num+1):\n",
        "    for y in range(1,11):\n",
        "      print(f'{n} * {y} = {n*y}')\n",
        "  again = input('Again ? [y/n] ')\n"
      ],
      "execution_count": 28,
      "outputs": [
        {
          "output_type": "stream",
          "text": [
            "enter a number between 1 - 9 : 4\n",
            "1 * 1 = 1\n",
            "1 * 2 = 2\n",
            "1 * 3 = 3\n",
            "1 * 4 = 4\n",
            "1 * 5 = 5\n",
            "1 * 6 = 6\n",
            "1 * 7 = 7\n",
            "1 * 8 = 8\n",
            "1 * 9 = 9\n",
            "1 * 10 = 10\n",
            "2 * 1 = 2\n",
            "2 * 2 = 4\n",
            "2 * 3 = 6\n",
            "2 * 4 = 8\n",
            "2 * 5 = 10\n",
            "2 * 6 = 12\n",
            "2 * 7 = 14\n",
            "2 * 8 = 16\n",
            "2 * 9 = 18\n",
            "2 * 10 = 20\n",
            "3 * 1 = 3\n",
            "3 * 2 = 6\n",
            "3 * 3 = 9\n",
            "3 * 4 = 12\n",
            "3 * 5 = 15\n",
            "3 * 6 = 18\n",
            "3 * 7 = 21\n",
            "3 * 8 = 24\n",
            "3 * 9 = 27\n",
            "3 * 10 = 30\n",
            "4 * 1 = 4\n",
            "4 * 2 = 8\n",
            "4 * 3 = 12\n",
            "4 * 4 = 16\n",
            "4 * 5 = 20\n",
            "4 * 6 = 24\n",
            "4 * 7 = 28\n",
            "4 * 8 = 32\n",
            "4 * 9 = 36\n",
            "4 * 10 = 40\n",
            "Again ? [y/n] n\n"
          ],
          "name": "stdout"
        }
      ]
    },
    {
      "cell_type": "markdown",
      "metadata": {
        "id": "2-WphsjVPDiZ"
      },
      "source": [
        "# 6. LIST COMPREHENSION"
      ]
    },
    {
      "cell_type": "code",
      "metadata": {
        "id": "qz9csDMHPNWA",
        "outputId": "eee0342f-eb94-40ab-8b51-4689fc2a16cd",
        "colab": {
          "base_uri": "https://localhost:8080/",
          "height": 34
        }
      },
      "source": [
        "# List comprehension is an elegant tool to transform one list into another list. \n",
        "# Instead of using loops and append, list comprehension is used to iterate over a list, condition its elements and include them in a new list.\n",
        "# Let's take a look at the traditional way of taking a list and squaring its elements\n",
        "input_list = [1, 2, 3, 4]\n",
        "output_list = []\n",
        "\n",
        "for element in input_list:\n",
        "    output_list.append(element **2)\n",
        "\n",
        "print(output_list)"
      ],
      "execution_count": 29,
      "outputs": [
        {
          "output_type": "stream",
          "text": [
            "[1, 4, 9, 16]\n"
          ],
          "name": "stdout"
        }
      ]
    },
    {
      "cell_type": "code",
      "metadata": {
        "id": "vw-8Z7adPdTP",
        "outputId": "873a71b7-2018-492a-9f0a-9ddd9790caa1",
        "colab": {
          "base_uri": "https://localhost:8080/",
          "height": 34
        }
      },
      "source": [
        "# List comprehension is a super powerful one line of code!\n",
        "[element**2 for element in input_list]"
      ],
      "execution_count": 30,
      "outputs": [
        {
          "output_type": "execute_result",
          "data": {
            "text/plain": [
              "[1, 4, 9, 16]"
            ]
          },
          "metadata": {
            "tags": []
          },
          "execution_count": 30
        }
      ]
    },
    {
      "cell_type": "code",
      "metadata": {
        "id": "az-FlBJsPwRh",
        "outputId": "330f50cf-0457-41fc-c0c0-e80d91f6920e",
        "colab": {
          "base_uri": "https://localhost:8080/",
          "height": 34
        }
      },
      "source": [
        "# Let's square even numbers only \n",
        "# We need to insert a condition \n",
        "input_list = [1, 2, 3, 4, 5, 6, 7, 8, 9, 10]\n",
        "res = []\n",
        "for i in input_list:\n",
        "  if i%2 == 0:\n",
        "    res.append(i**2)\n",
        "\n",
        "print(res)"
      ],
      "execution_count": 31,
      "outputs": [
        {
          "output_type": "stream",
          "text": [
            "[4, 16, 36, 64, 100]\n"
          ],
          "name": "stdout"
        }
      ]
    },
    {
      "cell_type": "code",
      "metadata": {
        "id": "zaREccpfP47m",
        "outputId": "4a6d98e8-4190-4dcd-a918-1b9463e69ebe",
        "colab": {
          "base_uri": "https://localhost:8080/",
          "height": 34
        }
      },
      "source": [
        "# All this could be done with one line of code as well using List Comprehension\n",
        "[i**2 for i in input_list if i%2 ==0]\n"
      ],
      "execution_count": 32,
      "outputs": [
        {
          "output_type": "execute_result",
          "data": {
            "text/plain": [
              "[4, 16, 36, 64, 100]"
            ]
          },
          "metadata": {
            "tags": []
          },
          "execution_count": 32
        }
      ]
    },
    {
      "cell_type": "markdown",
      "metadata": {
        "id": "lIBSXypYX_3O"
      },
      "source": [
        "**MINI CHALLENGE #8:**\n",
        "- **Write a code that takes in a list of prices of a stock for the past 7 days and then normalize the prices** "
      ]
    },
    {
      "cell_type": "code",
      "metadata": {
        "id": "02iEvxCQQyZ7",
        "outputId": "1b1e00cb-e1a6-45e1-e21c-e8d6b27423aa",
        "colab": {
          "base_uri": "https://localhost:8080/",
          "height": 68
        }
      },
      "source": [
        "price = input('Enter the prices of a stock for the past 7 days (separated by comma (,)) : ')\n",
        "res = [int(i) for i in price.split(',')]\n",
        "\n",
        "norm_price = [ (i/res[0]) for i in res]\n",
        "print(f'Original price {res} \\n Normalized Price: {norm_price}')"
      ],
      "execution_count": 33,
      "outputs": [
        {
          "output_type": "stream",
          "text": [
            "Enter the prices of a stock for the past 7 days (separated by comma (,)) : 10,20,30,10,30,0,100\n",
            "Original price [10, 20, 30, 10, 30, 0, 100] \n",
            " Normalized Price: [1.0, 2.0, 3.0, 1.0, 3.0, 0.0, 10.0]\n"
          ],
          "name": "stdout"
        }
      ]
    },
    {
      "cell_type": "markdown",
      "metadata": {
        "id": "aXkGeaUza3d0"
      },
      "source": [
        "# MINI CHALLENGE SOLUTION"
      ]
    },
    {
      "cell_type": "markdown",
      "metadata": {
        "id": "Pc-Wifl4a_hA"
      },
      "source": [
        "**MINI CHALLENGE #1:**\n",
        "- **Write a code that takes in a string and prints it out on the screen except for any letter 'T'. You can replace the letter 'T' with '*'.**"
      ]
    },
    {
      "cell_type": "code",
      "metadata": {
        "id": "ZVy77WA2a5QC",
        "outputId": "95a60b48-7488-4dbd-ef79-df62efc15e43",
        "colab": {
          "base_uri": "https://localhost:8080/",
          "height": 85
        }
      },
      "source": [
        "for letter in 'TSLA':\n",
        "  if letter == 'T':\n",
        "    print('*')\n",
        "  else:\n",
        "   print(letter)"
      ],
      "execution_count": 34,
      "outputs": [
        {
          "output_type": "stream",
          "text": [
            "*\n",
            "S\n",
            "L\n",
            "A\n"
          ],
          "name": "stdout"
        }
      ]
    },
    {
      "cell_type": "markdown",
      "metadata": {
        "id": "9OSRnPn0bf-u"
      },
      "source": [
        "**MINI CHALLENGE #2 SOLUTION:**\n",
        "- **Write a code that takes in the maximum and minimum limits from the user and prints out even numbers only between the provided range**"
      ]
    },
    {
      "cell_type": "code",
      "metadata": {
        "id": "jqQpkqe-bgaW",
        "outputId": "b9614352-fb22-439b-e2a8-c570cb59c2c5",
        "colab": {
          "base_uri": "https://localhost:8080/",
          "height": 68
        }
      },
      "source": [
        "min = int(input(\"Enter the price (lower bound: \"))\n",
        "max = int(input(\"Enter the price (Upper bound: \"))\n",
        "\n",
        "for i in range(min, max):\n",
        "    if i%2 == 0: \n",
        "        print(i)"
      ],
      "execution_count": 35,
      "outputs": [
        {
          "output_type": "stream",
          "text": [
            "Enter the price (lower bound: 2\n",
            "Enter the price (Upper bound: 3\n",
            "2\n"
          ],
          "name": "stdout"
        }
      ]
    },
    {
      "cell_type": "markdown",
      "metadata": {
        "id": "L6-jK2s0bwXc"
      },
      "source": [
        "**MINI CHALLENGE #3 SOLUTION:**\n",
        "- **Write a code that generates the following table:**\n",
        "```\n",
        "1   1    1\n",
        "2   4    8\n",
        "3   9   27\n",
        "4  16   64\n",
        "5  25  125\n",
        "6  36  216\n",
        "7  49  343\n",
        "8  64  512\n",
        "9  81  729\n",
        "10 100 1000\n",
        "```\n"
      ]
    },
    {
      "cell_type": "code",
      "metadata": {
        "id": "YU82QHJ9boi2",
        "outputId": "7b766dd4-0983-4715-8f15-e2d227156454",
        "colab": {
          "base_uri": "https://localhost:8080/",
          "height": 187
        }
      },
      "source": [
        "for x in range(1, 11):\n",
        "    print('{} {} {}'.format(x, x*x, x*x*x))"
      ],
      "execution_count": 36,
      "outputs": [
        {
          "output_type": "stream",
          "text": [
            "1 1 1\n",
            "2 4 8\n",
            "3 9 27\n",
            "4 16 64\n",
            "5 25 125\n",
            "6 36 216\n",
            "7 49 343\n",
            "8 64 512\n",
            "9 81 729\n",
            "10 100 1000\n"
          ],
          "name": "stdout"
        }
      ]
    },
    {
      "cell_type": "markdown",
      "metadata": {
        "id": "KfpFJ7tBb8RO"
      },
      "source": [
        "**MINI CHALLENGE #4 SOLUTION:**\n",
        "- **Write a code that displays numbers from 1 to 30 (including 30) using for and while loops**"
      ]
    },
    {
      "cell_type": "code",
      "metadata": {
        "id": "UukURLDIb0go",
        "outputId": "67f7c992-45ed-4761-f179-42795e2e0f94",
        "colab": {
          "base_uri": "https://localhost:8080/",
          "height": 527
        }
      },
      "source": [
        "i = 1\n",
        "while (i < 31):\n",
        "  print (i)\n",
        "  i = i+1"
      ],
      "execution_count": 37,
      "outputs": [
        {
          "output_type": "stream",
          "text": [
            "1\n",
            "2\n",
            "3\n",
            "4\n",
            "5\n",
            "6\n",
            "7\n",
            "8\n",
            "9\n",
            "10\n",
            "11\n",
            "12\n",
            "13\n",
            "14\n",
            "15\n",
            "16\n",
            "17\n",
            "18\n",
            "19\n",
            "20\n",
            "21\n",
            "22\n",
            "23\n",
            "24\n",
            "25\n",
            "26\n",
            "27\n",
            "28\n",
            "29\n",
            "30\n"
          ],
          "name": "stdout"
        }
      ]
    },
    {
      "cell_type": "code",
      "metadata": {
        "id": "iTYnoI4-cES_",
        "outputId": "b864aa41-212e-4de1-9469-15432f8075e8",
        "colab": {
          "base_uri": "https://localhost:8080/",
          "height": 527
        }
      },
      "source": [
        "for i in range(1, 31):\n",
        "    print(i)"
      ],
      "execution_count": 38,
      "outputs": [
        {
          "output_type": "stream",
          "text": [
            "1\n",
            "2\n",
            "3\n",
            "4\n",
            "5\n",
            "6\n",
            "7\n",
            "8\n",
            "9\n",
            "10\n",
            "11\n",
            "12\n",
            "13\n",
            "14\n",
            "15\n",
            "16\n",
            "17\n",
            "18\n",
            "19\n",
            "20\n",
            "21\n",
            "22\n",
            "23\n",
            "24\n",
            "25\n",
            "26\n",
            "27\n",
            "28\n",
            "29\n",
            "30\n"
          ],
          "name": "stdout"
        }
      ]
    },
    {
      "cell_type": "markdown",
      "metadata": {
        "id": "YGwSp4VScYc6"
      },
      "source": [
        "**MINI CHALLENGE #5 SOLUTION:**\n",
        "- **Create a rolling dice game that assume we have two dice (#1 and #2). The dice is being thrown and a random number is generated everytime. The game should be designed such that it prompts the user to ask if he/she would like to keep playing or exit the game.**"
      ]
    },
    {
      "cell_type": "code",
      "metadata": {
        "id": "bQizGjKvcRW7",
        "outputId": "a2786b44-0ffc-4622-a759-ce0eefbda883",
        "colab": {
          "base_uri": "https://localhost:8080/",
          "height": 85
        }
      },
      "source": [
        "import random\n",
        "\n",
        "keep_rolling = \"y\"\n",
        "\n",
        "while keep_rolling == \"y\":\n",
        "    print(\"Rolling the dices, please wait!...\")\n",
        "    print(\"Rolling results for Dice #1:\", random.randint(1, 6))\n",
        "    print(\"Rolling results for Dice #2:\", random.randint(1, 6))\n",
        "\n",
        "    keep_rolling = input(\"Do you want to roll again?\")"
      ],
      "execution_count": 39,
      "outputs": [
        {
          "output_type": "stream",
          "text": [
            "Rolling the dices, please wait!...\n",
            "Rolling results for Dice #1: 5\n",
            "Rolling results for Dice #2: 2\n",
            "Do you want to roll again?n\n"
          ],
          "name": "stdout"
        }
      ]
    },
    {
      "cell_type": "markdown",
      "metadata": {
        "id": "fhPFAXMFdAgv"
      },
      "source": [
        "**MINI CHALLENGE #6 SOLUTION:**\n",
        "- **Write a code that continiously gets data from the user and calculates the average and print out on the screen. The code exits when the user enters 'e'.**"
      ]
    },
    {
      "cell_type": "code",
      "metadata": {
        "id": "TwdLz4BOcesU",
        "outputId": "ec7d82a9-6cd5-44ea-e871-5ac8f8a07216",
        "colab": {
          "base_uri": "https://localhost:8080/",
          "height": 153
        }
      },
      "source": [
        "print(\"Keep entering numbers and I will display the average to you!\")\n",
        "avg = 0\n",
        "n = 0\n",
        "while True:\n",
        "    x = input(\"Enter a number: \")\n",
        "    \n",
        "    # Check if the user wants to exit (i.e.: break the loop)\n",
        "    if x == 'e':\n",
        "      break\n",
        "    \n",
        "    x = int(x)\n",
        "    n = n + 1\n",
        "    \n",
        "    avg =   ((avg * (n - 1) ) + x) / n\n",
        "    print (\"The current average is \", avg)"
      ],
      "execution_count": 40,
      "outputs": [
        {
          "output_type": "stream",
          "text": [
            "Keep entering numbers and I will display the average to you!\n",
            "Enter a number: 2\n",
            "The current average is  2.0\n",
            "Enter a number: 2\n",
            "The current average is  2.0\n",
            "Enter a number: 89\n",
            "The current average is  31.0\n",
            "Enter a number: e\n"
          ],
          "name": "stdout"
        }
      ]
    },
    {
      "cell_type": "markdown",
      "metadata": {
        "id": "Ga5YJU8fhV1V"
      },
      "source": [
        "**MINI CHALLENGE #7 SOLUTION:**\n",
        "- **Write a code that takes in a number (range between 1 and 9) from the user and print out the multiplication table up until that number.**"
      ]
    },
    {
      "cell_type": "code",
      "metadata": {
        "id": "XPRNPUmHddYx",
        "outputId": "ac1d94a0-4616-4651-c6d9-13dce9cbcb54",
        "colab": {
          "base_uri": "https://localhost:8080/",
          "height": 374
        }
      },
      "source": [
        "number = int(input(\"Enter a number between 1 and 9: \"))\n",
        "\n",
        "for x in range(1, number+1): # slow loop \n",
        "  for y in range(1, 11):   # fast loop\n",
        "   print('{} x {} = {}'.format(x, y, x*y))"
      ],
      "execution_count": 42,
      "outputs": [
        {
          "output_type": "stream",
          "text": [
            "Enter a number between 1 and 9: 2\n",
            "1 x 1 = 1\n",
            "1 x 2 = 2\n",
            "1 x 3 = 3\n",
            "1 x 4 = 4\n",
            "1 x 5 = 5\n",
            "1 x 6 = 6\n",
            "1 x 7 = 7\n",
            "1 x 8 = 8\n",
            "1 x 9 = 9\n",
            "1 x 10 = 10\n",
            "2 x 1 = 2\n",
            "2 x 2 = 4\n",
            "2 x 3 = 6\n",
            "2 x 4 = 8\n",
            "2 x 5 = 10\n",
            "2 x 6 = 12\n",
            "2 x 7 = 14\n",
            "2 x 8 = 16\n",
            "2 x 9 = 18\n",
            "2 x 10 = 20\n"
          ],
          "name": "stdout"
        }
      ]
    },
    {
      "cell_type": "markdown",
      "metadata": {
        "id": "6eUUTJKEhgzw"
      },
      "source": [
        "**MINI CHALLENGE #8 SOLUTION:**\n",
        "- **Write a code that takes in a list of prices of a stock for the past 7 days and then normalize the prices** "
      ]
    },
    {
      "cell_type": "code",
      "metadata": {
        "id": "G-i-cSuRhiZF",
        "outputId": "0486bda2-097d-490c-c9eb-5bf6b1767377",
        "colab": {
          "base_uri": "https://localhost:8080/",
          "height": 51
        }
      },
      "source": [
        "print('Enter a list of past 7-days prices separated by a space:')\n",
        "prices = [int(x) for x in input().split()]"
      ],
      "execution_count": 44,
      "outputs": [
        {
          "output_type": "stream",
          "text": [
            "Enter a list of past 7-days prices separated by a space:\n",
            "10 40 78 33 56 99\n"
          ],
          "name": "stdout"
        }
      ]
    },
    {
      "cell_type": "code",
      "metadata": {
        "id": "05OwM9e2hsg7",
        "outputId": "ea4596e5-d5a7-4763-be82-fdd746bf2576",
        "colab": {
          "base_uri": "https://localhost:8080/",
          "height": 68
        }
      },
      "source": [
        "normalized_prices = [ (i/prices[0]) for i in prices]\n",
        "print('Orginal Prices: {}\\nNormalized Prices: {}\\n'.format(prices, normalized_prices))"
      ],
      "execution_count": 45,
      "outputs": [
        {
          "output_type": "stream",
          "text": [
            "Orginal Prices: [10, 40, 78, 33, 56, 99]\n",
            "Normalized Prices: [1.0, 4.0, 7.8, 3.3, 5.6, 9.9]\n",
            "\n"
          ],
          "name": "stdout"
        }
      ]
    },
    {
      "cell_type": "code",
      "metadata": {
        "id": "Po4N2n9TSFvL"
      },
      "source": [
        ""
      ],
      "execution_count": null,
      "outputs": []
    }
  ]
}
