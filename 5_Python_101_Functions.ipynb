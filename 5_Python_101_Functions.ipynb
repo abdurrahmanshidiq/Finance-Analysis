{
  "nbformat": 4,
  "nbformat_minor": 0,
  "metadata": {
    "colab": {
      "name": "5. Python 101 - Functions - Skeleton.ipynb",
      "provenance": [],
      "collapsed_sections": [
        "BTLG7E2YeYIu"
      ],
      "include_colab_link": true
    },
    "kernelspec": {
      "name": "python3",
      "display_name": "Python 3"
    }
  },
  "cells": [
    {
      "cell_type": "markdown",
      "metadata": {
        "id": "view-in-github",
        "colab_type": "text"
      },
      "source": [
        "<a href=\"https://colab.research.google.com/github/abdurrahmanshidiq/Finance-Analysis/blob/main/5_Python_101_Functions.ipynb\" target=\"_parent\"><img src=\"https://colab.research.google.com/assets/colab-badge.svg\" alt=\"Open In Colab\"/></a>"
      ]
    },
    {
      "cell_type": "markdown",
      "metadata": {
        "id": "2qdHbV6LKCdn"
      },
      "source": [
        "# 1. BUILT-IN FUNCTIONS"
      ]
    },
    {
      "cell_type": "code",
      "metadata": {
        "id": "e027nLRtKclL"
      },
      "source": [
        "# There are many built-in functions that you can leverage directly \n",
        "# Let's define 2 lists x and y\n",
        "x = [4, 5, 1, 2, 8, 5]\n",
        "y = list(range(1, 7))"
      ],
      "execution_count": 1,
      "outputs": []
    },
    {
      "cell_type": "code",
      "metadata": {
        "id": "B_q1ds-xKcnQ",
        "outputId": "0742ec5a-c32c-441d-bc35-8d96087f31d4",
        "colab": {
          "base_uri": "https://localhost:8080/",
          "height": 34
        }
      },
      "source": [
        "x"
      ],
      "execution_count": 2,
      "outputs": [
        {
          "output_type": "execute_result",
          "data": {
            "text/plain": [
              "[4, 5, 1, 2, 8, 5]"
            ]
          },
          "metadata": {
            "tags": []
          },
          "execution_count": 2
        }
      ]
    },
    {
      "cell_type": "code",
      "metadata": {
        "id": "wlYds_UIK3Uq",
        "outputId": "4017e5a7-febc-4f6f-8327-1350faf31230",
        "colab": {
          "base_uri": "https://localhost:8080/",
          "height": 34
        }
      },
      "source": [
        "y"
      ],
      "execution_count": 3,
      "outputs": [
        {
          "output_type": "execute_result",
          "data": {
            "text/plain": [
              "[1, 2, 3, 4, 5, 6]"
            ]
          },
          "metadata": {
            "tags": []
          },
          "execution_count": 3
        }
      ]
    },
    {
      "cell_type": "code",
      "metadata": {
        "id": "sOb6YyohK3XA",
        "outputId": "29aaee2f-175e-4ac8-b713-45e2ac8afce1",
        "colab": {
          "base_uri": "https://localhost:8080/",
          "height": 34
        }
      },
      "source": [
        "# Let's obtain the length of y\n",
        "len(y)"
      ],
      "execution_count": 5,
      "outputs": [
        {
          "output_type": "execute_result",
          "data": {
            "text/plain": [
              "6"
            ]
          },
          "metadata": {
            "tags": []
          },
          "execution_count": 5
        }
      ]
    },
    {
      "cell_type": "code",
      "metadata": {
        "id": "E2d-scjBK3f_",
        "outputId": "c2b09fb6-10ff-420c-ba71-de397a93884e",
        "colab": {
          "base_uri": "https://localhost:8080/",
          "height": 34
        }
      },
      "source": [
        "# Let's obtain the minimum value \n",
        "min(x)"
      ],
      "execution_count": 6,
      "outputs": [
        {
          "output_type": "execute_result",
          "data": {
            "text/plain": [
              "1"
            ]
          },
          "metadata": {
            "tags": []
          },
          "execution_count": 6
        }
      ]
    },
    {
      "cell_type": "code",
      "metadata": {
        "id": "MPcUuoY6K3id",
        "outputId": "76200c71-86e1-445c-a1b0-c527c12d9d67",
        "colab": {
          "base_uri": "https://localhost:8080/",
          "height": 34
        }
      },
      "source": [
        "# Let's obtain the maximum value\n",
        "max(x)"
      ],
      "execution_count": 7,
      "outputs": [
        {
          "output_type": "execute_result",
          "data": {
            "text/plain": [
              "8"
            ]
          },
          "metadata": {
            "tags": []
          },
          "execution_count": 7
        }
      ]
    },
    {
      "cell_type": "code",
      "metadata": {
        "id": "oo4EvfwgK3nQ"
      },
      "source": [
        "# Let's create a tuple out of the list\n",
        "z = tuple(x)"
      ],
      "execution_count": 8,
      "outputs": []
    },
    {
      "cell_type": "code",
      "metadata": {
        "id": "gbcSW9n5Lrf0",
        "outputId": "984951ce-ce65-4b9f-bd8a-8b367e0b8148",
        "colab": {
          "base_uri": "https://localhost:8080/",
          "height": 34
        }
      },
      "source": [
        "z"
      ],
      "execution_count": 9,
      "outputs": [
        {
          "output_type": "execute_result",
          "data": {
            "text/plain": [
              "(4, 5, 1, 2, 8, 5)"
            ]
          },
          "metadata": {
            "tags": []
          },
          "execution_count": 9
        }
      ]
    },
    {
      "cell_type": "code",
      "metadata": {
        "id": "S-BLWy_AK3lL",
        "outputId": "6915599e-444b-41dd-a781-c8312bcc9a5c",
        "colab": {
          "base_uri": "https://localhost:8080/",
          "height": 34
        }
      },
      "source": [
        "type(z)"
      ],
      "execution_count": 10,
      "outputs": [
        {
          "output_type": "execute_result",
          "data": {
            "text/plain": [
              "tuple"
            ]
          },
          "metadata": {
            "tags": []
          },
          "execution_count": 10
        }
      ]
    },
    {
      "cell_type": "code",
      "metadata": {
        "id": "NYVetBn-Kcpk",
        "outputId": "ca45261f-e4a4-41c8-c431-a7ddcece6a69",
        "colab": {
          "base_uri": "https://localhost:8080/",
          "height": 34
        }
      },
      "source": [
        "# Let's obtain the sum of elements in x\n",
        "sum(x)"
      ],
      "execution_count": 11,
      "outputs": [
        {
          "output_type": "execute_result",
          "data": {
            "text/plain": [
              "25"
            ]
          },
          "metadata": {
            "tags": []
          },
          "execution_count": 11
        }
      ]
    },
    {
      "cell_type": "markdown",
      "metadata": {
        "id": "CvaYA-XocFOc"
      },
      "source": [
        "**MINI CHALLENGE #1:**\n",
        "- **Write a code that takes in 2 lists x = [-1 -4 -7] and y = [-3 7 4] and  calculates the absolute sum of all its elements |x+y|**\n"
      ]
    },
    {
      "cell_type": "code",
      "metadata": {
        "id": "DMYqI7CBekNI",
        "outputId": "cb5e81ac-194b-4c85-bde5-c5c90045d9a8",
        "colab": {
          "base_uri": "https://localhost:8080/",
          "height": 34
        }
      },
      "source": [
        " x = [-1, -4, -7] \n",
        " y = [-3, 7, 4] \n",
        "\n",
        "abs(sum(x+y))"
      ],
      "execution_count": 15,
      "outputs": [
        {
          "output_type": "execute_result",
          "data": {
            "text/plain": [
              "4"
            ]
          },
          "metadata": {
            "tags": []
          },
          "execution_count": 15
        }
      ]
    },
    {
      "cell_type": "markdown",
      "metadata": {
        "id": "AHrwK11xMArY"
      },
      "source": [
        "# 2. FUNCTIONS"
      ]
    },
    {
      "cell_type": "code",
      "metadata": {
        "id": "LhhFvM60MGrX"
      },
      "source": [
        "# Let's define a function named \"my_function\" that does not receive any arguments\n",
        "# The function simply prints out content and does not return anything\n",
        "def my_function ():\n",
        "  print('Lord Luhut')"
      ],
      "execution_count": 16,
      "outputs": []
    },
    {
      "cell_type": "code",
      "metadata": {
        "id": "-jJdkGlGMGwE",
        "outputId": "07ec605a-192d-4ede-e2df-1d30b7ed0d21",
        "colab": {
          "base_uri": "https://localhost:8080/",
          "height": 34
        }
      },
      "source": [
        "# Function call\n",
        "my_function()"
      ],
      "execution_count": 18,
      "outputs": [
        {
          "output_type": "stream",
          "text": [
            "Lord Luhut\n"
          ],
          "name": "stdout"
        }
      ]
    },
    {
      "cell_type": "code",
      "metadata": {
        "id": "OSVyOu91MGuW"
      },
      "source": [
        "# Define a function that takes in argument x and return the squared value \n",
        "def sq (x):\n",
        "  return x**2"
      ],
      "execution_count": 19,
      "outputs": []
    },
    {
      "cell_type": "code",
      "metadata": {
        "id": "NVPrMz2_MPz1",
        "outputId": "4b14ce62-6711-46d1-8600-74ced03d12db",
        "colab": {
          "base_uri": "https://localhost:8080/",
          "height": 34
        }
      },
      "source": [
        "# Call the function\n",
        "sq(4)"
      ],
      "execution_count": 20,
      "outputs": [
        {
          "output_type": "execute_result",
          "data": {
            "text/plain": [
              "16"
            ]
          },
          "metadata": {
            "tags": []
          },
          "execution_count": 20
        }
      ]
    },
    {
      "cell_type": "code",
      "metadata": {
        "id": "6ET-hFiSMPxi"
      },
      "source": [
        "# Define a function with default value \n",
        "def func (x=20000):\n",
        "  print('My Portofolio worth is = {}'.format(x))"
      ],
      "execution_count": 26,
      "outputs": []
    },
    {
      "cell_type": "code",
      "metadata": {
        "id": "-tiaDshNM48J",
        "outputId": "b16e48dc-6858-4958-f45f-083088939759",
        "colab": {
          "base_uri": "https://localhost:8080/",
          "height": 34
        }
      },
      "source": [
        "# If you pass an argument to the function, it overwrites the default value \n",
        "func(60000)"
      ],
      "execution_count": 27,
      "outputs": [
        {
          "output_type": "stream",
          "text": [
            "My Portofolio worth is = 60000\n"
          ],
          "name": "stdout"
        }
      ]
    },
    {
      "cell_type": "code",
      "metadata": {
        "id": "-cPR_Cg-M6nm",
        "outputId": "6d6a25fb-05ef-46fb-e39d-0dab1b2a9e30",
        "colab": {
          "base_uri": "https://localhost:8080/",
          "height": 34
        }
      },
      "source": [
        "# If you don't pass an argument, the default value \"20000\" will be used instead\n",
        "func()"
      ],
      "execution_count": 28,
      "outputs": [
        {
          "output_type": "stream",
          "text": [
            "My Portofolio worth is = 20000\n"
          ],
          "name": "stdout"
        }
      ]
    },
    {
      "cell_type": "code",
      "metadata": {
        "id": "50ywdKKg6zvV"
      },
      "source": [
        ""
      ],
      "execution_count": null,
      "outputs": []
    },
    {
      "cell_type": "markdown",
      "metadata": {
        "id": "DB1zlBEEfDlA"
      },
      "source": [
        "**MINI CHALLENGE #2:** \n",
        "- **Write a code that takes in two inputs (number of shares and prices) from the user and calculate the total account balance**"
      ]
    },
    {
      "cell_type": "code",
      "metadata": {
        "id": "s7fbv5eApK97"
      },
      "source": [
        "def porto (x,y):\n",
        "  print(f'Your amount of stock {x}, stock price {y}')\n",
        "  print('Your Account Balance {}'.format(x*y))"
      ],
      "execution_count": 30,
      "outputs": []
    },
    {
      "cell_type": "code",
      "metadata": {
        "id": "7VWNC72K8BHa",
        "outputId": "1bbbfb71-8fb6-4c75-9ec9-5ebb3e9f42bf",
        "colab": {
          "base_uri": "https://localhost:8080/",
          "height": 51
        }
      },
      "source": [
        "porto(50, 2000)"
      ],
      "execution_count": 31,
      "outputs": [
        {
          "output_type": "stream",
          "text": [
            "Your amount of stock 50, stock price 2000\n",
            "Your Account Balance 100000\n"
          ],
          "name": "stdout"
        }
      ]
    },
    {
      "cell_type": "markdown",
      "metadata": {
        "id": "lBj4QkQEpLkX"
      },
      "source": [
        "# 3. LAMBDA EXPRESSIONS "
      ]
    },
    {
      "cell_type": "code",
      "metadata": {
        "id": "YtkjNLEypRTb"
      },
      "source": [
        "# Lambda function is used to create a function without a name \n",
        "# Lambda functions are mainly used with filter() and map() [they will be discussed later on]. \n",
        "# Lambda function can receive any number of arguments, but can only have one expression."
      ],
      "execution_count": null,
      "outputs": []
    },
    {
      "cell_type": "code",
      "metadata": {
        "id": "FV5-hEWdpRdd"
      },
      "source": [
        "# let's see how to create a basic function that squares the input\n",
        "def my_function(x):\n",
        "    return x**2"
      ],
      "execution_count": 32,
      "outputs": []
    },
    {
      "cell_type": "code",
      "metadata": {
        "id": "cQZDrvwCpRa3",
        "outputId": "632b0519-7267-4388-d599-97a48c1114c4",
        "colab": {
          "base_uri": "https://localhost:8080/",
          "height": 34
        }
      },
      "source": [
        "# Function call\n",
        "my_function(3)"
      ],
      "execution_count": 33,
      "outputs": [
        {
          "output_type": "execute_result",
          "data": {
            "text/plain": [
              "9"
            ]
          },
          "metadata": {
            "tags": []
          },
          "execution_count": 33
        }
      ]
    },
    {
      "cell_type": "code",
      "metadata": {
        "id": "r5u0-IOBpRZq"
      },
      "source": [
        "# We can do the same task using Lambda expression\n",
        "# Note that there is no function name\n"
      ],
      "execution_count": null,
      "outputs": []
    },
    {
      "cell_type": "code",
      "metadata": {
        "id": "hLsuWg7apRW9",
        "outputId": "51abfa0a-52d5-47f4-d8d2-cc5a9ac82184",
        "colab": {
          "base_uri": "https://localhost:8080/",
          "height": 34
        }
      },
      "source": [
        "y = lambda x : x**2\n",
        "y(3)"
      ],
      "execution_count": 34,
      "outputs": [
        {
          "output_type": "execute_result",
          "data": {
            "text/plain": [
              "9"
            ]
          },
          "metadata": {
            "tags": []
          },
          "execution_count": 34
        }
      ]
    },
    {
      "cell_type": "code",
      "metadata": {
        "id": "OKcE7JHBuzTj"
      },
      "source": [
        "# Note that lambda expression can take in more than one argument \n",
        "# there is only one expression that could be performed\n",
        "def summation(x, y, z):\n",
        "    return x+y+z"
      ],
      "execution_count": 35,
      "outputs": []
    },
    {
      "cell_type": "code",
      "metadata": {
        "id": "VyEdRTwXuzQ4",
        "outputId": "19a51dab-b180-4f35-cb9e-70df979d692e",
        "colab": {
          "base_uri": "https://localhost:8080/",
          "height": 34
        }
      },
      "source": [
        "summation(1,2,3)"
      ],
      "execution_count": 36,
      "outputs": [
        {
          "output_type": "execute_result",
          "data": {
            "text/plain": [
              "6"
            ]
          },
          "metadata": {
            "tags": []
          },
          "execution_count": 36
        }
      ]
    },
    {
      "cell_type": "code",
      "metadata": {
        "id": "kAuNql-zuzPE"
      },
      "source": [
        "y = lambda x,y,z: x+y+z"
      ],
      "execution_count": 37,
      "outputs": []
    },
    {
      "cell_type": "code",
      "metadata": {
        "id": "8PfLE79Lvuvg",
        "outputId": "58ffba67-1291-46b0-b35f-0c307533efa7",
        "colab": {
          "base_uri": "https://localhost:8080/",
          "height": 34
        }
      },
      "source": [
        "y(1,2,3)"
      ],
      "execution_count": 38,
      "outputs": [
        {
          "output_type": "execute_result",
          "data": {
            "text/plain": [
              "6"
            ]
          },
          "metadata": {
            "tags": []
          },
          "execution_count": 38
        }
      ]
    },
    {
      "cell_type": "markdown",
      "metadata": {
        "id": "KTRBKK97fQGG"
      },
      "source": [
        "**MINI CHALLENGE #3:**\n",
        "- **Repeat mini challenge #2 (Write a code that takes in two inputs from the user and calculates the total) using lambda expressions instead**"
      ]
    },
    {
      "cell_type": "code",
      "metadata": {
        "id": "jz5bvTOmuHhG",
        "outputId": "522092d9-64d9-429b-beb9-d7c1fd121cf9",
        "colab": {
          "base_uri": "https://localhost:8080/",
          "height": 68
        }
      },
      "source": [
        "x = input('Enter amount of shares : ')\n",
        "y = input('Enter price per share :')\n",
        "\n",
        "total = lambda x,y: int(x) * int(y)\n",
        "print('Account balance : {}'.format(total(x,y)))"
      ],
      "execution_count": 41,
      "outputs": [
        {
          "output_type": "stream",
          "text": [
            "Enter amount of shares : 21\n",
            "Enter price per share :7000\n",
            "Account balance : 147000\n"
          ],
          "name": "stdout"
        }
      ]
    },
    {
      "cell_type": "markdown",
      "metadata": {
        "id": "S8pekOcjKF6H"
      },
      "source": [
        "# 4. MAP "
      ]
    },
    {
      "cell_type": "code",
      "metadata": {
        "id": "-zx6IFX7KdKi"
      },
      "source": [
        "# The map() function takes in a function and a list.\n",
        "# map() performs an operation on the entire list and return the results in a new list.\n",
        "# Define two lists a and b\n",
        "a = [1, 4, 5, 6, 9]\n",
        "b = [1, 7, 9, 12, 7]"
      ],
      "execution_count": 42,
      "outputs": []
    },
    {
      "cell_type": "code",
      "metadata": {
        "id": "l4AEJ33iih46"
      },
      "source": [
        "# Let's define a function that adds two elements together\n",
        "def summation (a,b):\n",
        "  return a+b"
      ],
      "execution_count": 44,
      "outputs": []
    },
    {
      "cell_type": "code",
      "metadata": {
        "id": "korabBXxEPRA",
        "outputId": "17985e45-c42e-4d53-d597-1705899aed90",
        "colab": {
          "base_uri": "https://localhost:8080/",
          "height": 34
        }
      },
      "source": [
        "summation(a,b)"
      ],
      "execution_count": 45,
      "outputs": [
        {
          "output_type": "execute_result",
          "data": {
            "text/plain": [
              "[1, 4, 5, 6, 9, 1, 7, 9, 12, 7]"
            ]
          },
          "metadata": {
            "tags": []
          },
          "execution_count": 45
        }
      ]
    },
    {
      "cell_type": "code",
      "metadata": {
        "id": "8ZEm6BjIKdQ7",
        "outputId": "20a6dd33-4894-434d-c220-5de4213216b1",
        "colab": {
          "base_uri": "https://localhost:8080/",
          "height": 34
        }
      },
      "source": [
        "# You can now use map() to apply a function to the entire list and generate a new list\n",
        "list(map(summation, a, b))"
      ],
      "execution_count": 48,
      "outputs": [
        {
          "output_type": "execute_result",
          "data": {
            "text/plain": [
              "[2, 11, 14, 18, 16]"
            ]
          },
          "metadata": {
            "tags": []
          },
          "execution_count": 48
        }
      ]
    },
    {
      "cell_type": "code",
      "metadata": {
        "id": "pc6LxQQFKdM2",
        "outputId": "74fb6dd4-5022-467b-9507-81cd06519675",
        "colab": {
          "base_uri": "https://localhost:8080/",
          "height": 34
        }
      },
      "source": [
        "# map could be used with Lambda as follows\n",
        "# lambda function is an anonymous function that take any number of arguments and can only have one expression\n",
        "inp = [1,2,3,4]\n",
        "\n",
        "out = list(map(lambda x: x**2, inp))\n",
        "print(out)"
      ],
      "execution_count": 57,
      "outputs": [
        {
          "output_type": "stream",
          "text": [
            "[1, 4, 9, 16]\n"
          ],
          "name": "stdout"
        }
      ]
    },
    {
      "cell_type": "markdown",
      "metadata": {
        "id": "Dj4Wcbr1gLo8"
      },
      "source": [
        "**MINI CHALLENGE #4:**\n",
        "- **Write a function that takes an argument and return its cubic value**\n",
        "- **Define a list of integers ranging from -10 to 10** \n",
        "- **Apply the function to the entire list and generate a new output list** \n"
      ]
    },
    {
      "cell_type": "code",
      "metadata": {
        "id": "pqXiuFVxvU18",
        "outputId": "8b2a0973-5454-4aec-e4d0-d3eb453665e6",
        "colab": {
          "base_uri": "https://localhost:8080/",
          "height": 51
        }
      },
      "source": [
        "num = range(-10,10)\n",
        "\n",
        "op = list(map(lambda x : x*x*x, num))\n",
        "print(list(num))\n",
        "print(op)"
      ],
      "execution_count": 62,
      "outputs": [
        {
          "output_type": "stream",
          "text": [
            "[-10, -9, -8, -7, -6, -5, -4, -3, -2, -1, 0, 1, 2, 3, 4, 5, 6, 7, 8, 9]\n",
            "[-1000, -729, -512, -343, -216, -125, -64, -27, -8, -1, 0, 1, 8, 27, 64, 125, 216, 343, 512, 729]\n"
          ],
          "name": "stdout"
        }
      ]
    },
    {
      "cell_type": "code",
      "metadata": {
        "id": "vdVwq16aIpsj",
        "outputId": "e20abe3d-bf04-4999-b99f-8064f84c1ffd",
        "colab": {
          "base_uri": "https://localhost:8080/",
          "height": 51
        }
      },
      "source": [
        "def cubic(x):\n",
        "    return (x*x*x)\n",
        "\n",
        "numbers = range(-10, 11)\n",
        "numbers_cubed = list(map(lambda x: cubic(x), numbers))\n",
        "print(list(numbers))\n",
        "print(numbers_cubed)"
      ],
      "execution_count": 64,
      "outputs": [
        {
          "output_type": "stream",
          "text": [
            "[-10, -9, -8, -7, -6, -5, -4, -3, -2, -1, 0, 1, 2, 3, 4, 5, 6, 7, 8, 9, 10]\n",
            "[-1000, -729, -512, -343, -216, -125, -64, -27, -8, -1, 0, 1, 8, 27, 64, 125, 216, 343, 512, 729, 1000]\n"
          ],
          "name": "stdout"
        }
      ]
    },
    {
      "cell_type": "markdown",
      "metadata": {
        "id": "BtAxpyeGKGA1"
      },
      "source": [
        "# 5. FILTER\n"
      ]
    },
    {
      "cell_type": "code",
      "metadata": {
        "id": "D5LVa00JKdz0"
      },
      "source": [
        "# filter is used to create a list of elements for which a function returns \"True\".\n",
        "prices = [105, 5055, 40, 356, 923, 1443, 222, 62]"
      ],
      "execution_count": 65,
      "outputs": []
    },
    {
      "cell_type": "code",
      "metadata": {
        "id": "cgQq4hlcKd4A",
        "outputId": "92790e47-8d36-4ba4-c28f-fa84c2ff455c",
        "colab": {
          "base_uri": "https://localhost:8080/",
          "height": 34
        }
      },
      "source": [
        "# return only even numbers\n",
        "out = list(filter( lambda x: (x % 2 == 0) , prices ))\n",
        "out"
      ],
      "execution_count": 66,
      "outputs": [
        {
          "output_type": "execute_result",
          "data": {
            "text/plain": [
              "[40, 356, 222, 62]"
            ]
          },
          "metadata": {
            "tags": []
          },
          "execution_count": 66
        }
      ]
    },
    {
      "cell_type": "code",
      "metadata": {
        "id": "shory4UpKd2Y",
        "outputId": "f1257694-aa8f-410b-9538-c3f75f6f3502",
        "colab": {
          "base_uri": "https://localhost:8080/",
          "height": 34
        }
      },
      "source": [
        "# Return prices that are greater than or equal 100\n",
        "list(filter(lambda x : (x >= 100), prices))"
      ],
      "execution_count": 70,
      "outputs": [
        {
          "output_type": "execute_result",
          "data": {
            "text/plain": [
              "[105, 5055, 356, 923, 1443, 222]"
            ]
          },
          "metadata": {
            "tags": []
          },
          "execution_count": 70
        }
      ]
    },
    {
      "cell_type": "code",
      "metadata": {
        "id": "uQi17-h_hlSf",
        "outputId": "8d0972e1-235d-4d09-bbb8-a5a58f2307c5",
        "colab": {
          "base_uri": "https://localhost:8080/",
          "height": 34
        }
      },
      "source": [
        "# Return age between 200 and 250\n",
        "list(filter(lambda x : (x>=200 and x<=250), prices))"
      ],
      "execution_count": 71,
      "outputs": [
        {
          "output_type": "execute_result",
          "data": {
            "text/plain": [
              "[222]"
            ]
          },
          "metadata": {
            "tags": []
          },
          "execution_count": 71
        }
      ]
    },
    {
      "cell_type": "markdown",
      "metadata": {
        "id": "JZIiCmyvh7EW"
      },
      "source": [
        "**MINI CHALLENGE #5:**\n",
        "- **Write a code from the user that takes in a range (upper and lower bounds) and returns a list of positive and even numbers only** \n"
      ]
    },
    {
      "cell_type": "code",
      "metadata": {
        "id": "4JDq7Y04ve0S",
        "outputId": "cd562777-facd-49e3-a493-1ea1ee7418f0",
        "colab": {
          "base_uri": "https://localhost:8080/",
          "height": 68
        }
      },
      "source": [
        "up = input('Upper bound : ')\n",
        "bot = input('Lower bound : ')\n",
        "\n",
        "range_num = range(int(up), int(bot))\n",
        "list(filter(lambda x : (x>0) and (x%2==0), range_num))"
      ],
      "execution_count": 73,
      "outputs": [
        {
          "output_type": "stream",
          "text": [
            "Upper bound : -10\n",
            "Lower bound : 6\n"
          ],
          "name": "stdout"
        },
        {
          "output_type": "execute_result",
          "data": {
            "text/plain": [
              "[2, 4]"
            ]
          },
          "metadata": {
            "tags": []
          },
          "execution_count": 73
        }
      ]
    },
    {
      "cell_type": "markdown",
      "metadata": {
        "id": "BTLG7E2YeYIu"
      },
      "source": [
        "# MINI CHALLENGE SOLUTIONS"
      ]
    },
    {
      "cell_type": "markdown",
      "metadata": {
        "id": "Sr6wSsDGecLe"
      },
      "source": [
        "**MINI CHALLENGE #1 SOLUTION:**\n",
        "- **Write a code that takes in 2 lists x = [-1 -4 -7] and y = [-3 7 4] and  calculates the absolute sum of all its elements |x+y|**"
      ]
    },
    {
      "cell_type": "code",
      "metadata": {
        "id": "Ytdw0BKxKFRx",
        "outputId": "60213af7-fbf9-4732-df56-c6263267ef27",
        "colab": {
          "base_uri": "https://localhost:8080/",
          "height": 34
        }
      },
      "source": [
        "x = [-1, -4, -7]\n",
        "y = [-3, 7, 4]\n",
        "z = abs(sum(x+y))\n",
        "z"
      ],
      "execution_count": null,
      "outputs": [
        {
          "output_type": "execute_result",
          "data": {
            "text/plain": [
              "4"
            ]
          },
          "metadata": {
            "tags": []
          },
          "execution_count": 11
        }
      ]
    },
    {
      "cell_type": "markdown",
      "metadata": {
        "id": "YAh_RlMreu3V"
      },
      "source": [
        "**MINI CHALLENGE #2: SOLUTION** \n",
        "- **Write a code that takes in two inputs (number of units and prices) from the user and calculate the total account balance**"
      ]
    },
    {
      "cell_type": "code",
      "metadata": {
        "id": "7zwqjcIresGA"
      },
      "source": [
        "def total(units, price):\n",
        "    amount = units * price\n",
        "    return(amount)"
      ],
      "execution_count": null,
      "outputs": []
    },
    {
      "cell_type": "code",
      "metadata": {
        "id": "MjKWBisLet6b",
        "outputId": "65db3176-bed8-4829-f208-559309835034",
        "colab": {
          "base_uri": "https://localhost:8080/",
          "height": 67
        }
      },
      "source": [
        "num_shares = int(input(\"Enter the number of shares: \"))\n",
        "price = int(input(\"Enter the price per share: \"))\n",
        "account_balance = total(num_shares, price)\n",
        "\n",
        "print('Total account balance = {}'.format(account_balance))"
      ],
      "execution_count": null,
      "outputs": [
        {
          "output_type": "stream",
          "text": [
            "Enter the number of shares: 80\n",
            "Enter the price per share: 5\n",
            "Total account balance = 400\n"
          ],
          "name": "stdout"
        }
      ]
    },
    {
      "cell_type": "markdown",
      "metadata": {
        "id": "fCXG1j3qfipT"
      },
      "source": [
        "**MINI CHALLENGE #3 SOLUTION**\n",
        "- **Repeat mini challenge #2 (Write a code that takes in two inputs from the user and calculates the total) using lambda expressions instead**"
      ]
    },
    {
      "cell_type": "code",
      "metadata": {
        "id": "oYBrDfsTe-pI",
        "outputId": "cf9c2c4b-4710-4c88-8171-bd14e57b55d9",
        "colab": {
          "base_uri": "https://localhost:8080/",
          "height": 67
        }
      },
      "source": [
        "num_shares = int(input(\"Enter the number of shares: \"))\n",
        "price = int(input(\"Enter the price per share: \"))\n",
        "\n",
        "account_balance = lambda num_shares, price : num_shares * price\n",
        "print('Total = {}'.format(account_balance(num_shares, price)))\n"
      ],
      "execution_count": null,
      "outputs": [
        {
          "output_type": "stream",
          "text": [
            "Enter the number of shares: 80\n",
            "Enter the price per share: 5\n",
            "Total = 400\n"
          ],
          "name": "stdout"
        }
      ]
    },
    {
      "cell_type": "markdown",
      "metadata": {
        "id": "sAkiC9hYhHgX"
      },
      "source": [
        "**MINI CHALLENGE #4 SOLUTION:**\n",
        "- **Write a function that takes an argument and return its cubic value**\n",
        "- **Define a list of integers ranging from -10 to 10** \n",
        "- **Apply the function to the entire list and generate a new output list** "
      ]
    },
    {
      "cell_type": "code",
      "metadata": {
        "id": "hw2O6o4XhDLN"
      },
      "source": [
        "def cubic(x):\n",
        "    return (x*x*x)\n",
        "\n",
        "numbers = range(-10, 11)\n",
        "numbers_cubed = list(map(lambda x: cubic(x), numbers))\n",
        "print(list(numbers))\n",
        "print(numbers_cubed)"
      ],
      "execution_count": null,
      "outputs": []
    },
    {
      "cell_type": "markdown",
      "metadata": {
        "id": "WafFpX3zifYK"
      },
      "source": [
        "**MINI CHALLENGE #5 SOLUTION:**\n",
        "- **Write a code from the user that takes in a range (upper and lower bounds) and returns a list of positive and even numbers only** \n"
      ]
    },
    {
      "cell_type": "code",
      "metadata": {
        "id": "jbTis2cBib1x"
      },
      "source": [
        "min = int(input(\"Enter a number (lower bound) *must be negative* : \"))\n",
        "max = int(input(\"Enter a number (Upper bound:) \"))\n",
        "\n",
        "numbers = range(min, max)\n",
        "even_greater_than_zero = list(filter(lambda x: (x > 0 and x%2 == 0), numbers))\n",
        "print(even_greater_than_zero)\n"
      ],
      "execution_count": null,
      "outputs": []
    }
  ]
}